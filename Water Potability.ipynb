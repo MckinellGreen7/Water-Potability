{
 "cells": [
  {
   "cell_type": "markdown",
   "id": "7baeb799",
   "metadata": {},
   "source": [
    "# Predicting Water Potability using Machine Learning\n",
    "\n",
    "This notebook is using different Python based Machine Learning and Data Science libraries in attempt to build a machine learning model which could predict whether the water is potable or not.\n",
    "\n",
    "We're going to take the following approach \n",
    "\n",
    "1. Problem Definition\n",
    "2. Data\n",
    "3. Evaluation\n",
    "4. Features\n",
    "5. Modeling\n",
    "6. Experimentation\n",
    "\n",
    "## 1. Problem Defination\n",
    "\n",
    "Access to safe drinking-water is essential to health, a basic human right and a component of effective policy for health protection. This is important as a health and development issue at a national, regional and local level. In some regions, it has been shown that investments in water supply and sanitation can yield a net economic benefit, since the reductions in adverse health effects and health care costs outweigh the costs of undertaking the interventions.\n",
    "\n",
    "So by using some parameter we will predict that if the water is potable or not.\n",
    "\n",
    "## 2. Data\n",
    "\n",
    "We have taken the data from Kaggle. https://www.kaggle.com/datasets/adityakadiwal/water-potability\n",
    "\n",
    "## 3. Evaluation \n",
    "\n",
    "> If we can reach 70% accuracy at predicting whether or not water is potable or not.\n",
    "\n",
    "## 4. Features\n",
    "\n",
    "This is where we get different information about each of the features in data.\n",
    "\n",
    "**Create Data Dictionary**\n",
    "\n",
    "1. pH value:\n",
    "PH is an important parameter in evaluating the acid–base balance of water. It is also the indicator of acidic or alkaline condition of water status. WHO has recommended maximum permissible limit of pH from 6.5 to 8.5. The current investigation ranges were 6.52–6.83 which are in the range of WHO standards.\n",
    "\n",
    "2. Hardness:\n",
    "Hardness is mainly caused by calcium and magnesium salts. These salts are dissolved from geologic deposits through which water travels. The length of time water is in contact with hardness producing material helps determine how much hardness there is in raw water. Hardness was originally defined as the capacity of water to precipitate soap caused by Calcium and Magnesium.\n",
    "\n",
    "3. Solids (Total dissolved solids - TDS):\n",
    "Water has the ability to dissolve a wide range of inorganic and some organic minerals or salts such as potassium, calcium, sodium, bicarbonates, chlorides, magnesium, sulfates etc. These minerals produced un-wanted taste and diluted color in appearance of water. This is the important parameter for the use of water. The water with high TDS value indicates that water is highly mineralized. Desirable limit for TDS is 500 mg/l and maximum limit is 1000 mg/l which prescribed for drinking purpose.\n",
    "\n",
    "4. Chloramines:\n",
    "Chlorine and chloramine are the major disinfectants used in public water systems. Chloramines are most commonly formed when ammonia is added to chlorine to treat drinking water. Chlorine levels up to 4 milligrams per liter (mg/L or 4 parts per million (ppm)) are considered safe in drinking water.\n",
    "\n",
    "5. Sulfate:\n",
    "Sulfates are naturally occurring substances that are found in minerals, soil, and rocks. They are present in ambient air, groundwater, plants, and food. The principal commercial use of sulfate is in the chemical industry. Sulfate concentration in seawater is about 2,700 milligrams per liter (mg/L). It ranges from 3 to 30 mg/L in most freshwater supplies, although much higher concentrations (1000 mg/L) are found in some geographic locations.\n",
    "\n",
    "6. Conductivity:\n",
    "Pure water is not a good conductor of electric current rather’s a good insulator. Increase in ions concentration enhances the electrical conductivity of water. Generally, the amount of dissolved solids in water determines the electrical conductivity. Electrical conductivity (EC) actually measures the ionic process of a solution that enables it to transmit current. According to WHO standards, EC value should not exceeded 400 μS/cm.\n",
    "\n",
    "7. Organic_carbon:\n",
    "Total Organic Carbon (TOC) in source waters comes from decaying natural organic matter (NOM) as well as synthetic sources. TOC is a measure of the total amount of carbon in organic compounds in pure water. According to US EPA < 2 mg/L as TOC in treated / drinking water, and < 4 mg/Lit in source water which is use for treatment.\n",
    "\n",
    "8. Trihalomethanes:\n",
    "THMs are chemicals which may be found in water treated with chlorine. The concentration of THMs in drinking water varies according to the level of organic material in the water, the amount of chlorine required to treat the water, and the temperature of the water that is being treated. THM levels up to 80 ppm is considered safe in drinking water.\n",
    "\n",
    "9. Turbidity:\n",
    "The turbidity of water depends on the quantity of solid matter present in the suspended state. It is a measure of light emitting properties of water and the test is used to indicate the quality of waste discharge with respect to colloidal matter. The mean turbidity value obtained for Wondo Genet Campus (0.98 NTU) is lower than the WHO recommended value of 5.00 NTU.\n",
    "\n",
    "10. Potability:\n",
    "Indicates if water is safe for human consumption where 1 means Potable and 0 means Not potable."
   ]
  },
  {
   "cell_type": "markdown",
   "id": "daffef51",
   "metadata": {},
   "source": [
    "## Preparing Tools for our Machine Learning Model\n",
    "\n",
    "In this project, we're going to use Pandas, Numpy and Matplotlib for Data Manipulation"
   ]
  },
  {
   "cell_type": "code",
   "execution_count": 3,
   "id": "7b4258d3",
   "metadata": {},
   "outputs": [],
   "source": [
    "# Importing tools\n",
    "# Regular EDA (exploratory data analysis) and plotting libraries\n",
    "import numpy as np\n",
    "import pandas as pd\n",
    "import matplotlib.pyplot as plt\n",
    "import seaborn as sns\n",
    "\n",
    "#We want our plots to appear inside the notebook\n",
    "%matplotlib inline\n",
    "\n",
    "# Models from Scikit-Learn\n",
    "from sklearn.linear_model import LogisticRegression\n",
    "from sklearn.neighbors import KNeighborsClassifier\n",
    "from sklearn.ensemble import RandomForestClassifier\n",
    "\n",
    "# Model Evaluations\n",
    "from sklearn.model_selection import train_test_split, cross_val_score\n",
    "from sklearn.model_selection import RandomizedSearchCV, GridSearchCV\n",
    "from sklearn.metrics import confusion_matrix, classification_report\n",
    "from sklearn.metrics import precision_score, recall_score,f1_score\n",
    "from sklearn.metrics import plot_roc_curve"
   ]
  },
  {
   "cell_type": "code",
   "execution_count": 4,
   "id": "6b1f3fc3",
   "metadata": {},
   "outputs": [],
   "source": [
    "# Load Data\n",
    "df=pd.read_csv(\"water_potability.csv\")"
   ]
  },
  {
   "cell_type": "code",
   "execution_count": 5,
   "id": "3bd9a0e9",
   "metadata": {},
   "outputs": [
    {
     "data": {
      "text/html": [
       "<div>\n",
       "<style scoped>\n",
       "    .dataframe tbody tr th:only-of-type {\n",
       "        vertical-align: middle;\n",
       "    }\n",
       "\n",
       "    .dataframe tbody tr th {\n",
       "        vertical-align: top;\n",
       "    }\n",
       "\n",
       "    .dataframe thead th {\n",
       "        text-align: right;\n",
       "    }\n",
       "</style>\n",
       "<table border=\"1\" class=\"dataframe\">\n",
       "  <thead>\n",
       "    <tr style=\"text-align: right;\">\n",
       "      <th></th>\n",
       "      <th>ph</th>\n",
       "      <th>Hardness</th>\n",
       "      <th>Solids</th>\n",
       "      <th>Chloramines</th>\n",
       "      <th>Sulfate</th>\n",
       "      <th>Conductivity</th>\n",
       "      <th>Organic_carbon</th>\n",
       "      <th>Trihalomethanes</th>\n",
       "      <th>Turbidity</th>\n",
       "      <th>Potability</th>\n",
       "    </tr>\n",
       "  </thead>\n",
       "  <tbody>\n",
       "    <tr>\n",
       "      <th>0</th>\n",
       "      <td>NaN</td>\n",
       "      <td>204.890455</td>\n",
       "      <td>20791.318981</td>\n",
       "      <td>7.300212</td>\n",
       "      <td>368.516441</td>\n",
       "      <td>564.308654</td>\n",
       "      <td>10.379783</td>\n",
       "      <td>86.990970</td>\n",
       "      <td>2.963135</td>\n",
       "      <td>0</td>\n",
       "    </tr>\n",
       "    <tr>\n",
       "      <th>1</th>\n",
       "      <td>3.716080</td>\n",
       "      <td>129.422921</td>\n",
       "      <td>18630.057858</td>\n",
       "      <td>6.635246</td>\n",
       "      <td>NaN</td>\n",
       "      <td>592.885359</td>\n",
       "      <td>15.180013</td>\n",
       "      <td>56.329076</td>\n",
       "      <td>4.500656</td>\n",
       "      <td>0</td>\n",
       "    </tr>\n",
       "    <tr>\n",
       "      <th>2</th>\n",
       "      <td>8.099124</td>\n",
       "      <td>224.236259</td>\n",
       "      <td>19909.541732</td>\n",
       "      <td>9.275884</td>\n",
       "      <td>NaN</td>\n",
       "      <td>418.606213</td>\n",
       "      <td>16.868637</td>\n",
       "      <td>66.420093</td>\n",
       "      <td>3.055934</td>\n",
       "      <td>0</td>\n",
       "    </tr>\n",
       "    <tr>\n",
       "      <th>3</th>\n",
       "      <td>8.316766</td>\n",
       "      <td>214.373394</td>\n",
       "      <td>22018.417441</td>\n",
       "      <td>8.059332</td>\n",
       "      <td>356.886136</td>\n",
       "      <td>363.266516</td>\n",
       "      <td>18.436524</td>\n",
       "      <td>100.341674</td>\n",
       "      <td>4.628771</td>\n",
       "      <td>0</td>\n",
       "    </tr>\n",
       "    <tr>\n",
       "      <th>4</th>\n",
       "      <td>9.092223</td>\n",
       "      <td>181.101509</td>\n",
       "      <td>17978.986339</td>\n",
       "      <td>6.546600</td>\n",
       "      <td>310.135738</td>\n",
       "      <td>398.410813</td>\n",
       "      <td>11.558279</td>\n",
       "      <td>31.997993</td>\n",
       "      <td>4.075075</td>\n",
       "      <td>0</td>\n",
       "    </tr>\n",
       "    <tr>\n",
       "      <th>...</th>\n",
       "      <td>...</td>\n",
       "      <td>...</td>\n",
       "      <td>...</td>\n",
       "      <td>...</td>\n",
       "      <td>...</td>\n",
       "      <td>...</td>\n",
       "      <td>...</td>\n",
       "      <td>...</td>\n",
       "      <td>...</td>\n",
       "      <td>...</td>\n",
       "    </tr>\n",
       "    <tr>\n",
       "      <th>3271</th>\n",
       "      <td>4.668102</td>\n",
       "      <td>193.681735</td>\n",
       "      <td>47580.991603</td>\n",
       "      <td>7.166639</td>\n",
       "      <td>359.948574</td>\n",
       "      <td>526.424171</td>\n",
       "      <td>13.894419</td>\n",
       "      <td>66.687695</td>\n",
       "      <td>4.435821</td>\n",
       "      <td>1</td>\n",
       "    </tr>\n",
       "    <tr>\n",
       "      <th>3272</th>\n",
       "      <td>7.808856</td>\n",
       "      <td>193.553212</td>\n",
       "      <td>17329.802160</td>\n",
       "      <td>8.061362</td>\n",
       "      <td>NaN</td>\n",
       "      <td>392.449580</td>\n",
       "      <td>19.903225</td>\n",
       "      <td>NaN</td>\n",
       "      <td>2.798243</td>\n",
       "      <td>1</td>\n",
       "    </tr>\n",
       "    <tr>\n",
       "      <th>3273</th>\n",
       "      <td>9.419510</td>\n",
       "      <td>175.762646</td>\n",
       "      <td>33155.578218</td>\n",
       "      <td>7.350233</td>\n",
       "      <td>NaN</td>\n",
       "      <td>432.044783</td>\n",
       "      <td>11.039070</td>\n",
       "      <td>69.845400</td>\n",
       "      <td>3.298875</td>\n",
       "      <td>1</td>\n",
       "    </tr>\n",
       "    <tr>\n",
       "      <th>3274</th>\n",
       "      <td>5.126763</td>\n",
       "      <td>230.603758</td>\n",
       "      <td>11983.869376</td>\n",
       "      <td>6.303357</td>\n",
       "      <td>NaN</td>\n",
       "      <td>402.883113</td>\n",
       "      <td>11.168946</td>\n",
       "      <td>77.488213</td>\n",
       "      <td>4.708658</td>\n",
       "      <td>1</td>\n",
       "    </tr>\n",
       "    <tr>\n",
       "      <th>3275</th>\n",
       "      <td>7.874671</td>\n",
       "      <td>195.102299</td>\n",
       "      <td>17404.177061</td>\n",
       "      <td>7.509306</td>\n",
       "      <td>NaN</td>\n",
       "      <td>327.459760</td>\n",
       "      <td>16.140368</td>\n",
       "      <td>78.698446</td>\n",
       "      <td>2.309149</td>\n",
       "      <td>1</td>\n",
       "    </tr>\n",
       "  </tbody>\n",
       "</table>\n",
       "<p>3276 rows × 10 columns</p>\n",
       "</div>"
      ],
      "text/plain": [
       "            ph    Hardness        Solids  Chloramines     Sulfate  \\\n",
       "0          NaN  204.890455  20791.318981     7.300212  368.516441   \n",
       "1     3.716080  129.422921  18630.057858     6.635246         NaN   \n",
       "2     8.099124  224.236259  19909.541732     9.275884         NaN   \n",
       "3     8.316766  214.373394  22018.417441     8.059332  356.886136   \n",
       "4     9.092223  181.101509  17978.986339     6.546600  310.135738   \n",
       "...        ...         ...           ...          ...         ...   \n",
       "3271  4.668102  193.681735  47580.991603     7.166639  359.948574   \n",
       "3272  7.808856  193.553212  17329.802160     8.061362         NaN   \n",
       "3273  9.419510  175.762646  33155.578218     7.350233         NaN   \n",
       "3274  5.126763  230.603758  11983.869376     6.303357         NaN   \n",
       "3275  7.874671  195.102299  17404.177061     7.509306         NaN   \n",
       "\n",
       "      Conductivity  Organic_carbon  Trihalomethanes  Turbidity  Potability  \n",
       "0       564.308654       10.379783        86.990970   2.963135           0  \n",
       "1       592.885359       15.180013        56.329076   4.500656           0  \n",
       "2       418.606213       16.868637        66.420093   3.055934           0  \n",
       "3       363.266516       18.436524       100.341674   4.628771           0  \n",
       "4       398.410813       11.558279        31.997993   4.075075           0  \n",
       "...            ...             ...              ...        ...         ...  \n",
       "3271    526.424171       13.894419        66.687695   4.435821           1  \n",
       "3272    392.449580       19.903225              NaN   2.798243           1  \n",
       "3273    432.044783       11.039070        69.845400   3.298875           1  \n",
       "3274    402.883113       11.168946        77.488213   4.708658           1  \n",
       "3275    327.459760       16.140368        78.698446   2.309149           1  \n",
       "\n",
       "[3276 rows x 10 columns]"
      ]
     },
     "execution_count": 5,
     "metadata": {},
     "output_type": "execute_result"
    }
   ],
   "source": [
    "df"
   ]
  },
  {
   "cell_type": "code",
   "execution_count": 6,
   "id": "e3b5ab79",
   "metadata": {},
   "outputs": [
    {
     "ename": "AttributeError",
     "evalue": "'DataFrame' object has no attribute 'tonumpy'",
     "output_type": "error",
     "traceback": [
      "\u001b[1;31m---------------------------------------------------------------------------\u001b[0m",
      "\u001b[1;31mAttributeError\u001b[0m                            Traceback (most recent call last)",
      "Input \u001b[1;32mIn [6]\u001b[0m, in \u001b[0;36m<cell line: 1>\u001b[1;34m()\u001b[0m\n\u001b[1;32m----> 1\u001b[0m \u001b[43mdf\u001b[49m\u001b[38;5;241;43m.\u001b[39;49m\u001b[43mtonumpy\u001b[49m()\n",
      "File \u001b[1;32mD:\\anaconda\\anaconda.files\\lib\\site-packages\\pandas\\core\\generic.py:5575\u001b[0m, in \u001b[0;36mNDFrame.__getattr__\u001b[1;34m(self, name)\u001b[0m\n\u001b[0;32m   5568\u001b[0m \u001b[38;5;28;01mif\u001b[39;00m (\n\u001b[0;32m   5569\u001b[0m     name \u001b[38;5;129;01mnot\u001b[39;00m \u001b[38;5;129;01min\u001b[39;00m \u001b[38;5;28mself\u001b[39m\u001b[38;5;241m.\u001b[39m_internal_names_set\n\u001b[0;32m   5570\u001b[0m     \u001b[38;5;129;01mand\u001b[39;00m name \u001b[38;5;129;01mnot\u001b[39;00m \u001b[38;5;129;01min\u001b[39;00m \u001b[38;5;28mself\u001b[39m\u001b[38;5;241m.\u001b[39m_metadata\n\u001b[0;32m   5571\u001b[0m     \u001b[38;5;129;01mand\u001b[39;00m name \u001b[38;5;129;01mnot\u001b[39;00m \u001b[38;5;129;01min\u001b[39;00m \u001b[38;5;28mself\u001b[39m\u001b[38;5;241m.\u001b[39m_accessors\n\u001b[0;32m   5572\u001b[0m     \u001b[38;5;129;01mand\u001b[39;00m \u001b[38;5;28mself\u001b[39m\u001b[38;5;241m.\u001b[39m_info_axis\u001b[38;5;241m.\u001b[39m_can_hold_identifiers_and_holds_name(name)\n\u001b[0;32m   5573\u001b[0m ):\n\u001b[0;32m   5574\u001b[0m     \u001b[38;5;28;01mreturn\u001b[39;00m \u001b[38;5;28mself\u001b[39m[name]\n\u001b[1;32m-> 5575\u001b[0m \u001b[38;5;28;01mreturn\u001b[39;00m \u001b[38;5;28;43mobject\u001b[39;49m\u001b[38;5;241;43m.\u001b[39;49m\u001b[38;5;21;43m__getattribute__\u001b[39;49m\u001b[43m(\u001b[49m\u001b[38;5;28;43mself\u001b[39;49m\u001b[43m,\u001b[49m\u001b[43m \u001b[49m\u001b[43mname\u001b[49m\u001b[43m)\u001b[49m\n",
      "\u001b[1;31mAttributeError\u001b[0m: 'DataFrame' object has no attribute 'tonumpy'"
     ]
    }
   ],
   "source": [
    "df.toPnumpy()"
   ]
  },
  {
   "cell_type": "code",
   "execution_count": 4,
   "id": "1a29f19a",
   "metadata": {},
   "outputs": [
    {
     "data": {
      "text/plain": [
       "0    1998\n",
       "1    1278\n",
       "Name: Potability, dtype: int64"
      ]
     },
     "execution_count": 4,
     "metadata": {},
     "output_type": "execute_result"
    }
   ],
   "source": [
    "df['Potability'].value_counts()"
   ]
  },
  {
   "cell_type": "code",
   "execution_count": 5,
   "id": "79a21e22",
   "metadata": {},
   "outputs": [],
   "source": [
    "# Dropping Rows With Null Values\n",
    "df.dropna(inplace=True)"
   ]
  },
  {
   "cell_type": "code",
   "execution_count": 10,
   "id": "8343d70b",
   "metadata": {
    "scrolled": true
   },
   "outputs": [
    {
     "data": {
      "text/html": [
       "<div>\n",
       "<style scoped>\n",
       "    .dataframe tbody tr th:only-of-type {\n",
       "        vertical-align: middle;\n",
       "    }\n",
       "\n",
       "    .dataframe tbody tr th {\n",
       "        vertical-align: top;\n",
       "    }\n",
       "\n",
       "    .dataframe thead th {\n",
       "        text-align: right;\n",
       "    }\n",
       "</style>\n",
       "<table border=\"1\" class=\"dataframe\">\n",
       "  <thead>\n",
       "    <tr style=\"text-align: right;\">\n",
       "      <th></th>\n",
       "      <th>ph</th>\n",
       "      <th>Hardness</th>\n",
       "      <th>Solids</th>\n",
       "      <th>Chloramines</th>\n",
       "      <th>Sulfate</th>\n",
       "      <th>Conductivity</th>\n",
       "      <th>Organic_carbon</th>\n",
       "      <th>Trihalomethanes</th>\n",
       "      <th>Turbidity</th>\n",
       "      <th>Potability</th>\n",
       "    </tr>\n",
       "  </thead>\n",
       "  <tbody>\n",
       "    <tr>\n",
       "      <th>0</th>\n",
       "      <td>8.316766</td>\n",
       "      <td>214.373394</td>\n",
       "      <td>22018.417441</td>\n",
       "      <td>8.059332</td>\n",
       "      <td>356.886136</td>\n",
       "      <td>363.266516</td>\n",
       "      <td>18.436524</td>\n",
       "      <td>100.341674</td>\n",
       "      <td>4.628771</td>\n",
       "      <td>0</td>\n",
       "    </tr>\n",
       "    <tr>\n",
       "      <th>1</th>\n",
       "      <td>9.092223</td>\n",
       "      <td>181.101509</td>\n",
       "      <td>17978.986339</td>\n",
       "      <td>6.546600</td>\n",
       "      <td>310.135738</td>\n",
       "      <td>398.410813</td>\n",
       "      <td>11.558279</td>\n",
       "      <td>31.997993</td>\n",
       "      <td>4.075075</td>\n",
       "      <td>0</td>\n",
       "    </tr>\n",
       "    <tr>\n",
       "      <th>2</th>\n",
       "      <td>5.584087</td>\n",
       "      <td>188.313324</td>\n",
       "      <td>28748.687739</td>\n",
       "      <td>7.544869</td>\n",
       "      <td>326.678363</td>\n",
       "      <td>280.467916</td>\n",
       "      <td>8.399735</td>\n",
       "      <td>54.917862</td>\n",
       "      <td>2.559708</td>\n",
       "      <td>0</td>\n",
       "    </tr>\n",
       "    <tr>\n",
       "      <th>3</th>\n",
       "      <td>10.223862</td>\n",
       "      <td>248.071735</td>\n",
       "      <td>28749.716544</td>\n",
       "      <td>7.513408</td>\n",
       "      <td>393.663396</td>\n",
       "      <td>283.651634</td>\n",
       "      <td>13.789695</td>\n",
       "      <td>84.603556</td>\n",
       "      <td>2.672989</td>\n",
       "      <td>0</td>\n",
       "    </tr>\n",
       "    <tr>\n",
       "      <th>4</th>\n",
       "      <td>8.635849</td>\n",
       "      <td>203.361523</td>\n",
       "      <td>13672.091764</td>\n",
       "      <td>4.563009</td>\n",
       "      <td>303.309771</td>\n",
       "      <td>474.607645</td>\n",
       "      <td>12.363817</td>\n",
       "      <td>62.798309</td>\n",
       "      <td>4.401425</td>\n",
       "      <td>0</td>\n",
       "    </tr>\n",
       "    <tr>\n",
       "      <th>...</th>\n",
       "      <td>...</td>\n",
       "      <td>...</td>\n",
       "      <td>...</td>\n",
       "      <td>...</td>\n",
       "      <td>...</td>\n",
       "      <td>...</td>\n",
       "      <td>...</td>\n",
       "      <td>...</td>\n",
       "      <td>...</td>\n",
       "      <td>...</td>\n",
       "    </tr>\n",
       "    <tr>\n",
       "      <th>2006</th>\n",
       "      <td>8.989900</td>\n",
       "      <td>215.047358</td>\n",
       "      <td>15921.412018</td>\n",
       "      <td>6.297312</td>\n",
       "      <td>312.931022</td>\n",
       "      <td>390.410231</td>\n",
       "      <td>9.899115</td>\n",
       "      <td>55.069304</td>\n",
       "      <td>4.613843</td>\n",
       "      <td>1</td>\n",
       "    </tr>\n",
       "    <tr>\n",
       "      <th>2007</th>\n",
       "      <td>6.702547</td>\n",
       "      <td>207.321086</td>\n",
       "      <td>17246.920347</td>\n",
       "      <td>7.708117</td>\n",
       "      <td>304.510230</td>\n",
       "      <td>329.266002</td>\n",
       "      <td>16.217303</td>\n",
       "      <td>28.878601</td>\n",
       "      <td>3.442983</td>\n",
       "      <td>1</td>\n",
       "    </tr>\n",
       "    <tr>\n",
       "      <th>2008</th>\n",
       "      <td>11.491011</td>\n",
       "      <td>94.812545</td>\n",
       "      <td>37188.826022</td>\n",
       "      <td>9.263166</td>\n",
       "      <td>258.930600</td>\n",
       "      <td>439.893618</td>\n",
       "      <td>16.172755</td>\n",
       "      <td>41.558501</td>\n",
       "      <td>4.369264</td>\n",
       "      <td>1</td>\n",
       "    </tr>\n",
       "    <tr>\n",
       "      <th>2009</th>\n",
       "      <td>6.069616</td>\n",
       "      <td>186.659040</td>\n",
       "      <td>26138.780191</td>\n",
       "      <td>7.747547</td>\n",
       "      <td>345.700257</td>\n",
       "      <td>415.886955</td>\n",
       "      <td>12.067620</td>\n",
       "      <td>60.419921</td>\n",
       "      <td>3.669712</td>\n",
       "      <td>1</td>\n",
       "    </tr>\n",
       "    <tr>\n",
       "      <th>2010</th>\n",
       "      <td>4.668102</td>\n",
       "      <td>193.681735</td>\n",
       "      <td>47580.991603</td>\n",
       "      <td>7.166639</td>\n",
       "      <td>359.948574</td>\n",
       "      <td>526.424171</td>\n",
       "      <td>13.894419</td>\n",
       "      <td>66.687695</td>\n",
       "      <td>4.435821</td>\n",
       "      <td>1</td>\n",
       "    </tr>\n",
       "  </tbody>\n",
       "</table>\n",
       "<p>2011 rows × 10 columns</p>\n",
       "</div>"
      ],
      "text/plain": [
       "             ph    Hardness        Solids  Chloramines     Sulfate  \\\n",
       "0      8.316766  214.373394  22018.417441     8.059332  356.886136   \n",
       "1      9.092223  181.101509  17978.986339     6.546600  310.135738   \n",
       "2      5.584087  188.313324  28748.687739     7.544869  326.678363   \n",
       "3     10.223862  248.071735  28749.716544     7.513408  393.663396   \n",
       "4      8.635849  203.361523  13672.091764     4.563009  303.309771   \n",
       "...         ...         ...           ...          ...         ...   \n",
       "2006   8.989900  215.047358  15921.412018     6.297312  312.931022   \n",
       "2007   6.702547  207.321086  17246.920347     7.708117  304.510230   \n",
       "2008  11.491011   94.812545  37188.826022     9.263166  258.930600   \n",
       "2009   6.069616  186.659040  26138.780191     7.747547  345.700257   \n",
       "2010   4.668102  193.681735  47580.991603     7.166639  359.948574   \n",
       "\n",
       "      Conductivity  Organic_carbon  Trihalomethanes  Turbidity  Potability  \n",
       "0       363.266516       18.436524       100.341674   4.628771           0  \n",
       "1       398.410813       11.558279        31.997993   4.075075           0  \n",
       "2       280.467916        8.399735        54.917862   2.559708           0  \n",
       "3       283.651634       13.789695        84.603556   2.672989           0  \n",
       "4       474.607645       12.363817        62.798309   4.401425           0  \n",
       "...            ...             ...              ...        ...         ...  \n",
       "2006    390.410231        9.899115        55.069304   4.613843           1  \n",
       "2007    329.266002       16.217303        28.878601   3.442983           1  \n",
       "2008    439.893618       16.172755        41.558501   4.369264           1  \n",
       "2009    415.886955       12.067620        60.419921   3.669712           1  \n",
       "2010    526.424171       13.894419        66.687695   4.435821           1  \n",
       "\n",
       "[2011 rows x 10 columns]"
      ]
     },
     "execution_count": 10,
     "metadata": {},
     "output_type": "execute_result"
    }
   ],
   "source": [
    "# Reseting the index after dropping null values\n",
    "df.reset_index(inplace = True, drop = True)\n",
    "#df.drop('level_0',axis=1,inplace=True)\n",
    "df"
   ]
  },
  {
   "cell_type": "code",
   "execution_count": 11,
   "id": "37429fd4",
   "metadata": {},
   "outputs": [],
   "source": [
    "df.to_csv(\"water-potability11.csv\")"
   ]
  },
  {
   "cell_type": "code",
   "execution_count": 12,
   "id": "1508c848",
   "metadata": {},
   "outputs": [
    {
     "data": {
      "text/html": [
       "<div>\n",
       "<style scoped>\n",
       "    .dataframe tbody tr th:only-of-type {\n",
       "        vertical-align: middle;\n",
       "    }\n",
       "\n",
       "    .dataframe tbody tr th {\n",
       "        vertical-align: top;\n",
       "    }\n",
       "\n",
       "    .dataframe thead th {\n",
       "        text-align: right;\n",
       "    }\n",
       "</style>\n",
       "<table border=\"1\" class=\"dataframe\">\n",
       "  <thead>\n",
       "    <tr style=\"text-align: right;\">\n",
       "      <th></th>\n",
       "      <th>ph</th>\n",
       "      <th>Hardness</th>\n",
       "      <th>Solids</th>\n",
       "      <th>Chloramines</th>\n",
       "      <th>Sulfate</th>\n",
       "      <th>Conductivity</th>\n",
       "      <th>Organic_carbon</th>\n",
       "      <th>Trihalomethanes</th>\n",
       "      <th>Turbidity</th>\n",
       "      <th>Potability</th>\n",
       "    </tr>\n",
       "  </thead>\n",
       "  <tbody>\n",
       "    <tr>\n",
       "      <th>0</th>\n",
       "      <td>8.316766</td>\n",
       "      <td>214.373394</td>\n",
       "      <td>22018.417441</td>\n",
       "      <td>8.059332</td>\n",
       "      <td>356.886136</td>\n",
       "      <td>363.266516</td>\n",
       "      <td>18.436524</td>\n",
       "      <td>100.341674</td>\n",
       "      <td>4.628771</td>\n",
       "      <td>0</td>\n",
       "    </tr>\n",
       "    <tr>\n",
       "      <th>1</th>\n",
       "      <td>9.092223</td>\n",
       "      <td>181.101509</td>\n",
       "      <td>17978.986339</td>\n",
       "      <td>6.546600</td>\n",
       "      <td>310.135738</td>\n",
       "      <td>398.410813</td>\n",
       "      <td>11.558279</td>\n",
       "      <td>31.997993</td>\n",
       "      <td>4.075075</td>\n",
       "      <td>0</td>\n",
       "    </tr>\n",
       "    <tr>\n",
       "      <th>2</th>\n",
       "      <td>5.584087</td>\n",
       "      <td>188.313324</td>\n",
       "      <td>28748.687739</td>\n",
       "      <td>7.544869</td>\n",
       "      <td>326.678363</td>\n",
       "      <td>280.467916</td>\n",
       "      <td>8.399735</td>\n",
       "      <td>54.917862</td>\n",
       "      <td>2.559708</td>\n",
       "      <td>0</td>\n",
       "    </tr>\n",
       "    <tr>\n",
       "      <th>3</th>\n",
       "      <td>10.223862</td>\n",
       "      <td>248.071735</td>\n",
       "      <td>28749.716544</td>\n",
       "      <td>7.513408</td>\n",
       "      <td>393.663396</td>\n",
       "      <td>283.651634</td>\n",
       "      <td>13.789695</td>\n",
       "      <td>84.603556</td>\n",
       "      <td>2.672989</td>\n",
       "      <td>0</td>\n",
       "    </tr>\n",
       "    <tr>\n",
       "      <th>4</th>\n",
       "      <td>8.635849</td>\n",
       "      <td>203.361523</td>\n",
       "      <td>13672.091764</td>\n",
       "      <td>4.563009</td>\n",
       "      <td>303.309771</td>\n",
       "      <td>474.607645</td>\n",
       "      <td>12.363817</td>\n",
       "      <td>62.798309</td>\n",
       "      <td>4.401425</td>\n",
       "      <td>0</td>\n",
       "    </tr>\n",
       "  </tbody>\n",
       "</table>\n",
       "</div>"
      ],
      "text/plain": [
       "          ph    Hardness        Solids  Chloramines     Sulfate  Conductivity  \\\n",
       "0   8.316766  214.373394  22018.417441     8.059332  356.886136    363.266516   \n",
       "1   9.092223  181.101509  17978.986339     6.546600  310.135738    398.410813   \n",
       "2   5.584087  188.313324  28748.687739     7.544869  326.678363    280.467916   \n",
       "3  10.223862  248.071735  28749.716544     7.513408  393.663396    283.651634   \n",
       "4   8.635849  203.361523  13672.091764     4.563009  303.309771    474.607645   \n",
       "\n",
       "   Organic_carbon  Trihalomethanes  Turbidity  Potability  \n",
       "0       18.436524       100.341674   4.628771           0  \n",
       "1       11.558279        31.997993   4.075075           0  \n",
       "2        8.399735        54.917862   2.559708           0  \n",
       "3       13.789695        84.603556   2.672989           0  \n",
       "4       12.363817        62.798309   4.401425           0  "
      ]
     },
     "execution_count": 12,
     "metadata": {},
     "output_type": "execute_result"
    }
   ],
   "source": [
    "# First 5 rows of DataFrame\n",
    "df.head()"
   ]
  },
  {
   "cell_type": "code",
   "execution_count": 9,
   "id": "9aadbfc4",
   "metadata": {},
   "outputs": [
    {
     "data": {
      "text/html": [
       "<div>\n",
       "<style scoped>\n",
       "    .dataframe tbody tr th:only-of-type {\n",
       "        vertical-align: middle;\n",
       "    }\n",
       "\n",
       "    .dataframe tbody tr th {\n",
       "        vertical-align: top;\n",
       "    }\n",
       "\n",
       "    .dataframe thead th {\n",
       "        text-align: right;\n",
       "    }\n",
       "</style>\n",
       "<table border=\"1\" class=\"dataframe\">\n",
       "  <thead>\n",
       "    <tr style=\"text-align: right;\">\n",
       "      <th></th>\n",
       "      <th>ph</th>\n",
       "      <th>Hardness</th>\n",
       "      <th>Solids</th>\n",
       "      <th>Chloramines</th>\n",
       "      <th>Sulfate</th>\n",
       "      <th>Conductivity</th>\n",
       "      <th>Organic_carbon</th>\n",
       "      <th>Trihalomethanes</th>\n",
       "      <th>Turbidity</th>\n",
       "      <th>Potability</th>\n",
       "    </tr>\n",
       "  </thead>\n",
       "  <tbody>\n",
       "    <tr>\n",
       "      <th>2006</th>\n",
       "      <td>8.989900</td>\n",
       "      <td>215.047358</td>\n",
       "      <td>15921.412018</td>\n",
       "      <td>6.297312</td>\n",
       "      <td>312.931022</td>\n",
       "      <td>390.410231</td>\n",
       "      <td>9.899115</td>\n",
       "      <td>55.069304</td>\n",
       "      <td>4.613843</td>\n",
       "      <td>1</td>\n",
       "    </tr>\n",
       "    <tr>\n",
       "      <th>2007</th>\n",
       "      <td>6.702547</td>\n",
       "      <td>207.321086</td>\n",
       "      <td>17246.920347</td>\n",
       "      <td>7.708117</td>\n",
       "      <td>304.510230</td>\n",
       "      <td>329.266002</td>\n",
       "      <td>16.217303</td>\n",
       "      <td>28.878601</td>\n",
       "      <td>3.442983</td>\n",
       "      <td>1</td>\n",
       "    </tr>\n",
       "    <tr>\n",
       "      <th>2008</th>\n",
       "      <td>11.491011</td>\n",
       "      <td>94.812545</td>\n",
       "      <td>37188.826022</td>\n",
       "      <td>9.263166</td>\n",
       "      <td>258.930600</td>\n",
       "      <td>439.893618</td>\n",
       "      <td>16.172755</td>\n",
       "      <td>41.558501</td>\n",
       "      <td>4.369264</td>\n",
       "      <td>1</td>\n",
       "    </tr>\n",
       "    <tr>\n",
       "      <th>2009</th>\n",
       "      <td>6.069616</td>\n",
       "      <td>186.659040</td>\n",
       "      <td>26138.780191</td>\n",
       "      <td>7.747547</td>\n",
       "      <td>345.700257</td>\n",
       "      <td>415.886955</td>\n",
       "      <td>12.067620</td>\n",
       "      <td>60.419921</td>\n",
       "      <td>3.669712</td>\n",
       "      <td>1</td>\n",
       "    </tr>\n",
       "    <tr>\n",
       "      <th>2010</th>\n",
       "      <td>4.668102</td>\n",
       "      <td>193.681735</td>\n",
       "      <td>47580.991603</td>\n",
       "      <td>7.166639</td>\n",
       "      <td>359.948574</td>\n",
       "      <td>526.424171</td>\n",
       "      <td>13.894419</td>\n",
       "      <td>66.687695</td>\n",
       "      <td>4.435821</td>\n",
       "      <td>1</td>\n",
       "    </tr>\n",
       "  </tbody>\n",
       "</table>\n",
       "</div>"
      ],
      "text/plain": [
       "             ph    Hardness        Solids  Chloramines     Sulfate  \\\n",
       "2006   8.989900  215.047358  15921.412018     6.297312  312.931022   \n",
       "2007   6.702547  207.321086  17246.920347     7.708117  304.510230   \n",
       "2008  11.491011   94.812545  37188.826022     9.263166  258.930600   \n",
       "2009   6.069616  186.659040  26138.780191     7.747547  345.700257   \n",
       "2010   4.668102  193.681735  47580.991603     7.166639  359.948574   \n",
       "\n",
       "      Conductivity  Organic_carbon  Trihalomethanes  Turbidity  Potability  \n",
       "2006    390.410231        9.899115        55.069304   4.613843           1  \n",
       "2007    329.266002       16.217303        28.878601   3.442983           1  \n",
       "2008    439.893618       16.172755        41.558501   4.369264           1  \n",
       "2009    415.886955       12.067620        60.419921   3.669712           1  \n",
       "2010    526.424171       13.894419        66.687695   4.435821           1  "
      ]
     },
     "execution_count": 9,
     "metadata": {},
     "output_type": "execute_result"
    }
   ],
   "source": [
    "# Last 5 rows of DataFrame\n",
    "df.tail()"
   ]
  },
  {
   "cell_type": "code",
   "execution_count": 10,
   "id": "f04c47e0",
   "metadata": {},
   "outputs": [
    {
     "data": {
      "text/plain": [
       "0    1200\n",
       "1     811\n",
       "Name: Potability, dtype: int64"
      ]
     },
     "execution_count": 10,
     "metadata": {},
     "output_type": "execute_result"
    }
   ],
   "source": [
    "df['Potability'].value_counts()"
   ]
  },
  {
   "cell_type": "code",
   "execution_count": 14,
   "id": "f384c7e4",
   "metadata": {},
   "outputs": [
    {
     "data": {
      "image/png": "[encoded data removed]",
      "text/plain": [
       "<Figure size 1000x600 with 1 Axes>"
      ]
     },
     "metadata": {},
     "output_type": "display_data"
    }
   ],
   "source": [
    "df['Potability'].value_counts().plot(kind='bar',color=['salmon','lightblue'],figsize=(10,6));\n",
    "plt.title('Potability Of Water')\n",
    "plt.xlabel(\"0 = Not Potable , 1 = Potable\")\n",
    "plt.ylabel(\"Amount\");"
   ]
  },
  {
   "cell_type": "code",
   "execution_count": 12,
   "id": "4109c022",
   "metadata": {},
   "outputs": [
    {
     "name": "stdout",
     "output_type": "stream",
     "text": [
      "<class 'pandas.core.frame.DataFrame'>\n",
      "RangeIndex: 2011 entries, 0 to 2010\n",
      "Data columns (total 10 columns):\n",
      " #   Column           Non-Null Count  Dtype  \n",
      "---  ------           --------------  -----  \n",
      " 0   ph               2011 non-null   float64\n",
      " 1   Hardness         2011 non-null   float64\n",
      " 2   Solids           2011 non-null   float64\n",
      " 3   Chloramines      2011 non-null   float64\n",
      " 4   Sulfate          2011 non-null   float64\n",
      " 5   Conductivity     2011 non-null   float64\n",
      " 6   Organic_carbon   2011 non-null   float64\n",
      " 7   Trihalomethanes  2011 non-null   float64\n",
      " 8   Turbidity        2011 non-null   float64\n",
      " 9   Potability       2011 non-null   int64  \n",
      "dtypes: float64(9), int64(1)\n",
      "memory usage: 157.2 KB\n"
     ]
    }
   ],
   "source": [
    "df.info()"
   ]
  },
  {
   "cell_type": "code",
   "execution_count": 13,
   "id": "4d7c5f68",
   "metadata": {},
   "outputs": [
    {
     "data": {
      "text/html": [
       "<div>\n",
       "<style scoped>\n",
       "    .dataframe tbody tr th:only-of-type {\n",
       "        vertical-align: middle;\n",
       "    }\n",
       "\n",
       "    .dataframe tbody tr th {\n",
       "        vertical-align: top;\n",
       "    }\n",
       "\n",
       "    .dataframe thead th {\n",
       "        text-align: right;\n",
       "    }\n",
       "</style>\n",
       "<table border=\"1\" class=\"dataframe\">\n",
       "  <thead>\n",
       "    <tr style=\"text-align: right;\">\n",
       "      <th></th>\n",
       "      <th>ph</th>\n",
       "      <th>Hardness</th>\n",
       "      <th>Solids</th>\n",
       "      <th>Chloramines</th>\n",
       "      <th>Sulfate</th>\n",
       "      <th>Conductivity</th>\n",
       "      <th>Organic_carbon</th>\n",
       "      <th>Trihalomethanes</th>\n",
       "      <th>Turbidity</th>\n",
       "      <th>Potability</th>\n",
       "    </tr>\n",
       "  </thead>\n",
       "  <tbody>\n",
       "    <tr>\n",
       "      <th>count</th>\n",
       "      <td>2011.000000</td>\n",
       "      <td>2011.000000</td>\n",
       "      <td>2011.000000</td>\n",
       "      <td>2011.000000</td>\n",
       "      <td>2011.000000</td>\n",
       "      <td>2011.000000</td>\n",
       "      <td>2011.000000</td>\n",
       "      <td>2011.000000</td>\n",
       "      <td>2011.000000</td>\n",
       "      <td>2011.000000</td>\n",
       "    </tr>\n",
       "    <tr>\n",
       "      <th>mean</th>\n",
       "      <td>7.085990</td>\n",
       "      <td>195.968072</td>\n",
       "      <td>21917.441374</td>\n",
       "      <td>7.134338</td>\n",
       "      <td>333.224672</td>\n",
       "      <td>426.526409</td>\n",
       "      <td>14.357709</td>\n",
       "      <td>66.400859</td>\n",
       "      <td>3.969729</td>\n",
       "      <td>0.403282</td>\n",
       "    </tr>\n",
       "    <tr>\n",
       "      <th>std</th>\n",
       "      <td>1.573337</td>\n",
       "      <td>32.635085</td>\n",
       "      <td>8642.239815</td>\n",
       "      <td>1.584820</td>\n",
       "      <td>41.205172</td>\n",
       "      <td>80.712572</td>\n",
       "      <td>3.324959</td>\n",
       "      <td>16.077109</td>\n",
       "      <td>0.780346</td>\n",
       "      <td>0.490678</td>\n",
       "    </tr>\n",
       "    <tr>\n",
       "      <th>min</th>\n",
       "      <td>0.227499</td>\n",
       "      <td>73.492234</td>\n",
       "      <td>320.942611</td>\n",
       "      <td>1.390871</td>\n",
       "      <td>129.000000</td>\n",
       "      <td>201.619737</td>\n",
       "      <td>2.200000</td>\n",
       "      <td>8.577013</td>\n",
       "      <td>1.450000</td>\n",
       "      <td>0.000000</td>\n",
       "    </tr>\n",
       "    <tr>\n",
       "      <th>25%</th>\n",
       "      <td>6.089723</td>\n",
       "      <td>176.744938</td>\n",
       "      <td>15615.665390</td>\n",
       "      <td>6.138895</td>\n",
       "      <td>307.632511</td>\n",
       "      <td>366.680307</td>\n",
       "      <td>12.124105</td>\n",
       "      <td>55.952664</td>\n",
       "      <td>3.442915</td>\n",
       "      <td>0.000000</td>\n",
       "    </tr>\n",
       "    <tr>\n",
       "      <th>50%</th>\n",
       "      <td>7.027297</td>\n",
       "      <td>197.191839</td>\n",
       "      <td>20933.512750</td>\n",
       "      <td>7.143907</td>\n",
       "      <td>332.232177</td>\n",
       "      <td>423.455906</td>\n",
       "      <td>14.322019</td>\n",
       "      <td>66.542198</td>\n",
       "      <td>3.968177</td>\n",
       "      <td>0.000000</td>\n",
       "    </tr>\n",
       "    <tr>\n",
       "      <th>75%</th>\n",
       "      <td>8.052969</td>\n",
       "      <td>216.441070</td>\n",
       "      <td>27182.587067</td>\n",
       "      <td>8.109726</td>\n",
       "      <td>359.330555</td>\n",
       "      <td>482.373169</td>\n",
       "      <td>16.683049</td>\n",
       "      <td>77.291925</td>\n",
       "      <td>4.514175</td>\n",
       "      <td>1.000000</td>\n",
       "    </tr>\n",
       "    <tr>\n",
       "      <th>max</th>\n",
       "      <td>14.000000</td>\n",
       "      <td>317.338124</td>\n",
       "      <td>56488.672413</td>\n",
       "      <td>13.127000</td>\n",
       "      <td>481.030642</td>\n",
       "      <td>753.342620</td>\n",
       "      <td>27.006707</td>\n",
       "      <td>124.000000</td>\n",
       "      <td>6.494749</td>\n",
       "      <td>1.000000</td>\n",
       "    </tr>\n",
       "  </tbody>\n",
       "</table>\n",
       "</div>"
      ],
      "text/plain": [
       "                ph     Hardness        Solids  Chloramines      Sulfate  \\\n",
       "count  2011.000000  2011.000000   2011.000000  2011.000000  2011.000000   \n",
       "mean      7.085990   195.968072  21917.441374     7.134338   333.224672   \n",
       "std       1.573337    32.635085   8642.239815     1.584820    41.205172   \n",
       "min       0.227499    73.492234    320.942611     1.390871   129.000000   \n",
       "25%       6.089723   176.744938  15615.665390     6.138895   307.632511   \n",
       "50%       7.027297   197.191839  20933.512750     7.143907   332.232177   \n",
       "75%       8.052969   216.441070  27182.587067     8.109726   359.330555   \n",
       "max      14.000000   317.338124  56488.672413    13.127000   481.030642   \n",
       "\n",
       "       Conductivity  Organic_carbon  Trihalomethanes    Turbidity   Potability  \n",
       "count   2011.000000     2011.000000      2011.000000  2011.000000  2011.000000  \n",
       "mean     426.526409       14.357709        66.400859     3.969729     0.403282  \n",
       "std       80.712572        3.324959        16.077109     0.780346     0.490678  \n",
       "min      201.619737        2.200000         8.577013     1.450000     0.000000  \n",
       "25%      366.680307       12.124105        55.952664     3.442915     0.000000  \n",
       "50%      423.455906       14.322019        66.542198     3.968177     0.000000  \n",
       "75%      482.373169       16.683049        77.291925     4.514175     1.000000  \n",
       "max      753.342620       27.006707       124.000000     6.494749     1.000000  "
      ]
     },
     "execution_count": 13,
     "metadata": {},
     "output_type": "execute_result"
    }
   ],
   "source": [
    "df.describe()"
   ]
  },
  {
   "cell_type": "markdown",
   "id": "695075c1",
   "metadata": {},
   "source": [
    "### Water Potability According to ph"
   ]
  },
  {
   "cell_type": "code",
   "execution_count": 14,
   "id": "8a5effa1",
   "metadata": {},
   "outputs": [
    {
     "data": {
      "text/html": [
       "<div>\n",
       "<style scoped>\n",
       "    .dataframe tbody tr th:only-of-type {\n",
       "        vertical-align: middle;\n",
       "    }\n",
       "\n",
       "    .dataframe tbody tr th {\n",
       "        vertical-align: top;\n",
       "    }\n",
       "\n",
       "    .dataframe thead th {\n",
       "        text-align: right;\n",
       "    }\n",
       "</style>\n",
       "<table border=\"1\" class=\"dataframe\">\n",
       "  <thead>\n",
       "    <tr style=\"text-align: right;\">\n",
       "      <th></th>\n",
       "      <th>ph</th>\n",
       "      <th>Hardness</th>\n",
       "      <th>Potability</th>\n",
       "    </tr>\n",
       "  </thead>\n",
       "  <tbody>\n",
       "    <tr>\n",
       "      <th>0</th>\n",
       "      <td>8.316766</td>\n",
       "      <td>214.373394</td>\n",
       "      <td>0</td>\n",
       "    </tr>\n",
       "    <tr>\n",
       "      <th>1</th>\n",
       "      <td>9.092223</td>\n",
       "      <td>181.101509</td>\n",
       "      <td>0</td>\n",
       "    </tr>\n",
       "    <tr>\n",
       "      <th>2</th>\n",
       "      <td>5.584087</td>\n",
       "      <td>188.313324</td>\n",
       "      <td>0</td>\n",
       "    </tr>\n",
       "    <tr>\n",
       "      <th>3</th>\n",
       "      <td>10.223862</td>\n",
       "      <td>248.071735</td>\n",
       "      <td>0</td>\n",
       "    </tr>\n",
       "    <tr>\n",
       "      <th>4</th>\n",
       "      <td>8.635849</td>\n",
       "      <td>203.361523</td>\n",
       "      <td>0</td>\n",
       "    </tr>\n",
       "    <tr>\n",
       "      <th>...</th>\n",
       "      <td>...</td>\n",
       "      <td>...</td>\n",
       "      <td>...</td>\n",
       "    </tr>\n",
       "    <tr>\n",
       "      <th>2006</th>\n",
       "      <td>8.989900</td>\n",
       "      <td>215.047358</td>\n",
       "      <td>1</td>\n",
       "    </tr>\n",
       "    <tr>\n",
       "      <th>2007</th>\n",
       "      <td>6.702547</td>\n",
       "      <td>207.321086</td>\n",
       "      <td>1</td>\n",
       "    </tr>\n",
       "    <tr>\n",
       "      <th>2008</th>\n",
       "      <td>11.491011</td>\n",
       "      <td>94.812545</td>\n",
       "      <td>1</td>\n",
       "    </tr>\n",
       "    <tr>\n",
       "      <th>2009</th>\n",
       "      <td>6.069616</td>\n",
       "      <td>186.659040</td>\n",
       "      <td>1</td>\n",
       "    </tr>\n",
       "    <tr>\n",
       "      <th>2010</th>\n",
       "      <td>4.668102</td>\n",
       "      <td>193.681735</td>\n",
       "      <td>1</td>\n",
       "    </tr>\n",
       "  </tbody>\n",
       "</table>\n",
       "<p>2011 rows × 3 columns</p>\n",
       "</div>"
      ],
      "text/plain": [
       "             ph    Hardness  Potability\n",
       "0      8.316766  214.373394           0\n",
       "1      9.092223  181.101509           0\n",
       "2      5.584087  188.313324           0\n",
       "3     10.223862  248.071735           0\n",
       "4      8.635849  203.361523           0\n",
       "...         ...         ...         ...\n",
       "2006   8.989900  215.047358           1\n",
       "2007   6.702547  207.321086           1\n",
       "2008  11.491011   94.812545           1\n",
       "2009   6.069616  186.659040           1\n",
       "2010   4.668102  193.681735           1\n",
       "\n",
       "[2011 rows x 3 columns]"
      ]
     },
     "execution_count": 14,
     "metadata": {},
     "output_type": "execute_result"
    }
   ],
   "source": [
    "pd.DataFrame(zip(df.ph,df.Hardness,df.Potability),columns=['ph','Hardness','Potability'])"
   ]
  },
  {
   "cell_type": "code",
   "execution_count": 15,
   "id": "27da2840",
   "metadata": {},
   "outputs": [
    {
     "data": {
      "image/png": "[encoded data removed]",
      "text/plain": [
       "<Figure size 1440x720 with 1 Axes>"
      ]
     },
     "metadata": {
      "needs_background": "light"
     },
     "output_type": "display_data"
    }
   ],
   "source": [
    "# Create another figure \n",
    "plt.figure(figsize=(20,10))\n",
    "\n",
    "# Scatter with positive examples\n",
    "plt.scatter(df.ph[df.Potability==1],\n",
    "            df.Hardness[df.Potability==1],\n",
    "            c='salmon')\n",
    "\n",
    "# Scatter with Negative Results\n",
    "plt.scatter(df.ph[df.Potability==0],\n",
    "            df.Hardness[df.Potability==0],\n",
    "            c='darkblue')\n",
    "\n",
    "plt.title('Water Potability in Function of ph and Hardness',fontsize=20)\n",
    "plt.xlabel('ph',fontsize=16)\n",
    "plt.ylabel('Hardness',fontsize=16)\n",
    "plt.legend(['Water Potable','Water Not Potable']);"
   ]
  },
  {
   "cell_type": "code",
   "execution_count": 16,
   "id": "8a71a311",
   "metadata": {},
   "outputs": [
    {
     "data": {
      "image/png": "[encoded data removed]",
      "text/plain": [
       "<Figure size 720x432 with 1 Axes>"
      ]
     },
     "metadata": {
      "needs_background": "light"
     },
     "output_type": "display_data"
    }
   ],
   "source": [
    "pd.crosstab(df.Sulfate,df.Potability).plot(kind='density',figsize=(10,6));"
   ]
  },
  {
   "cell_type": "code",
   "execution_count": 17,
   "id": "d0f82a6a",
   "metadata": {},
   "outputs": [
    {
     "data": {
      "text/html": [
       "<div>\n",
       "<style scoped>\n",
       "    .dataframe tbody tr th:only-of-type {\n",
       "        vertical-align: middle;\n",
       "    }\n",
       "\n",
       "    .dataframe tbody tr th {\n",
       "        vertical-align: top;\n",
       "    }\n",
       "\n",
       "    .dataframe thead th {\n",
       "        text-align: right;\n",
       "    }\n",
       "</style>\n",
       "<table border=\"1\" class=\"dataframe\">\n",
       "  <thead>\n",
       "    <tr style=\"text-align: right;\">\n",
       "      <th></th>\n",
       "      <th>ph</th>\n",
       "      <th>Hardness</th>\n",
       "      <th>Solids</th>\n",
       "      <th>Chloramines</th>\n",
       "      <th>Sulfate</th>\n",
       "      <th>Conductivity</th>\n",
       "      <th>Organic_carbon</th>\n",
       "      <th>Trihalomethanes</th>\n",
       "      <th>Turbidity</th>\n",
       "      <th>Potability</th>\n",
       "    </tr>\n",
       "  </thead>\n",
       "  <tbody>\n",
       "    <tr>\n",
       "      <th>ph</th>\n",
       "      <td>1.000000</td>\n",
       "      <td>0.108948</td>\n",
       "      <td>-0.087615</td>\n",
       "      <td>-0.024768</td>\n",
       "      <td>0.010524</td>\n",
       "      <td>0.014128</td>\n",
       "      <td>0.028375</td>\n",
       "      <td>0.018278</td>\n",
       "      <td>-0.035849</td>\n",
       "      <td>0.014530</td>\n",
       "    </tr>\n",
       "    <tr>\n",
       "      <th>Hardness</th>\n",
       "      <td>0.108948</td>\n",
       "      <td>1.000000</td>\n",
       "      <td>-0.053269</td>\n",
       "      <td>-0.022685</td>\n",
       "      <td>-0.108521</td>\n",
       "      <td>0.011731</td>\n",
       "      <td>0.013224</td>\n",
       "      <td>-0.015400</td>\n",
       "      <td>-0.034831</td>\n",
       "      <td>-0.001505</td>\n",
       "    </tr>\n",
       "    <tr>\n",
       "      <th>Solids</th>\n",
       "      <td>-0.087615</td>\n",
       "      <td>-0.053269</td>\n",
       "      <td>1.000000</td>\n",
       "      <td>-0.051789</td>\n",
       "      <td>-0.162769</td>\n",
       "      <td>-0.005198</td>\n",
       "      <td>-0.005484</td>\n",
       "      <td>-0.015668</td>\n",
       "      <td>0.019409</td>\n",
       "      <td>0.040674</td>\n",
       "    </tr>\n",
       "    <tr>\n",
       "      <th>Chloramines</th>\n",
       "      <td>-0.024768</td>\n",
       "      <td>-0.022685</td>\n",
       "      <td>-0.051789</td>\n",
       "      <td>1.000000</td>\n",
       "      <td>0.006254</td>\n",
       "      <td>-0.028277</td>\n",
       "      <td>-0.023808</td>\n",
       "      <td>0.014990</td>\n",
       "      <td>0.013137</td>\n",
       "      <td>0.020784</td>\n",
       "    </tr>\n",
       "    <tr>\n",
       "      <th>Sulfate</th>\n",
       "      <td>0.010524</td>\n",
       "      <td>-0.108521</td>\n",
       "      <td>-0.162769</td>\n",
       "      <td>0.006254</td>\n",
       "      <td>1.000000</td>\n",
       "      <td>-0.016192</td>\n",
       "      <td>0.026776</td>\n",
       "      <td>-0.023347</td>\n",
       "      <td>-0.009934</td>\n",
       "      <td>-0.015303</td>\n",
       "    </tr>\n",
       "    <tr>\n",
       "      <th>Conductivity</th>\n",
       "      <td>0.014128</td>\n",
       "      <td>0.011731</td>\n",
       "      <td>-0.005198</td>\n",
       "      <td>-0.028277</td>\n",
       "      <td>-0.016192</td>\n",
       "      <td>1.000000</td>\n",
       "      <td>0.015647</td>\n",
       "      <td>0.004888</td>\n",
       "      <td>0.012495</td>\n",
       "      <td>-0.015496</td>\n",
       "    </tr>\n",
       "    <tr>\n",
       "      <th>Organic_carbon</th>\n",
       "      <td>0.028375</td>\n",
       "      <td>0.013224</td>\n",
       "      <td>-0.005484</td>\n",
       "      <td>-0.023808</td>\n",
       "      <td>0.026776</td>\n",
       "      <td>0.015647</td>\n",
       "      <td>1.000000</td>\n",
       "      <td>-0.005667</td>\n",
       "      <td>-0.015428</td>\n",
       "      <td>-0.015567</td>\n",
       "    </tr>\n",
       "    <tr>\n",
       "      <th>Trihalomethanes</th>\n",
       "      <td>0.018278</td>\n",
       "      <td>-0.015400</td>\n",
       "      <td>-0.015668</td>\n",
       "      <td>0.014990</td>\n",
       "      <td>-0.023347</td>\n",
       "      <td>0.004888</td>\n",
       "      <td>-0.005667</td>\n",
       "      <td>1.000000</td>\n",
       "      <td>-0.020497</td>\n",
       "      <td>0.009244</td>\n",
       "    </tr>\n",
       "    <tr>\n",
       "      <th>Turbidity</th>\n",
       "      <td>-0.035849</td>\n",
       "      <td>-0.034831</td>\n",
       "      <td>0.019409</td>\n",
       "      <td>0.013137</td>\n",
       "      <td>-0.009934</td>\n",
       "      <td>0.012495</td>\n",
       "      <td>-0.015428</td>\n",
       "      <td>-0.020497</td>\n",
       "      <td>1.000000</td>\n",
       "      <td>0.022682</td>\n",
       "    </tr>\n",
       "    <tr>\n",
       "      <th>Potability</th>\n",
       "      <td>0.014530</td>\n",
       "      <td>-0.001505</td>\n",
       "      <td>0.040674</td>\n",
       "      <td>0.020784</td>\n",
       "      <td>-0.015303</td>\n",
       "      <td>-0.015496</td>\n",
       "      <td>-0.015567</td>\n",
       "      <td>0.009244</td>\n",
       "      <td>0.022682</td>\n",
       "      <td>1.000000</td>\n",
       "    </tr>\n",
       "  </tbody>\n",
       "</table>\n",
       "</div>"
      ],
      "text/plain": [
       "                       ph  Hardness    Solids  Chloramines   Sulfate  \\\n",
       "ph               1.000000  0.108948 -0.087615    -0.024768  0.010524   \n",
       "Hardness         0.108948  1.000000 -0.053269    -0.022685 -0.108521   \n",
       "Solids          -0.087615 -0.053269  1.000000    -0.051789 -0.162769   \n",
       "Chloramines     -0.024768 -0.022685 -0.051789     1.000000  0.006254   \n",
       "Sulfate          0.010524 -0.108521 -0.162769     0.006254  1.000000   \n",
       "Conductivity     0.014128  0.011731 -0.005198    -0.028277 -0.016192   \n",
       "Organic_carbon   0.028375  0.013224 -0.005484    -0.023808  0.026776   \n",
       "Trihalomethanes  0.018278 -0.015400 -0.015668     0.014990 -0.023347   \n",
       "Turbidity       -0.035849 -0.034831  0.019409     0.013137 -0.009934   \n",
       "Potability       0.014530 -0.001505  0.040674     0.020784 -0.015303   \n",
       "\n",
       "                 Conductivity  Organic_carbon  Trihalomethanes  Turbidity  \\\n",
       "ph                   0.014128        0.028375         0.018278  -0.035849   \n",
       "Hardness             0.011731        0.013224        -0.015400  -0.034831   \n",
       "Solids              -0.005198       -0.005484        -0.015668   0.019409   \n",
       "Chloramines         -0.028277       -0.023808         0.014990   0.013137   \n",
       "Sulfate             -0.016192        0.026776        -0.023347  -0.009934   \n",
       "Conductivity         1.000000        0.015647         0.004888   0.012495   \n",
       "Organic_carbon       0.015647        1.000000        -0.005667  -0.015428   \n",
       "Trihalomethanes      0.004888       -0.005667         1.000000  -0.020497   \n",
       "Turbidity            0.012495       -0.015428        -0.020497   1.000000   \n",
       "Potability          -0.015496       -0.015567         0.009244   0.022682   \n",
       "\n",
       "                 Potability  \n",
       "ph                 0.014530  \n",
       "Hardness          -0.001505  \n",
       "Solids             0.040674  \n",
       "Chloramines        0.020784  \n",
       "Sulfate           -0.015303  \n",
       "Conductivity      -0.015496  \n",
       "Organic_carbon    -0.015567  \n",
       "Trihalomethanes    0.009244  \n",
       "Turbidity          0.022682  \n",
       "Potability         1.000000  "
      ]
     },
     "execution_count": 17,
     "metadata": {},
     "output_type": "execute_result"
    }
   ],
   "source": [
    "# Correlation Matrix\n",
    "df.corr()"
   ]
  },
  {
   "cell_type": "code",
   "execution_count": 18,
   "id": "eb900dfb",
   "metadata": {},
   "outputs": [
    {
     "data": {
      "image/png": "[encoded data removed]",
      "text/plain": [
       "<Figure size 1080x720 with 2 Axes>"
      ]
     },
     "metadata": {
      "needs_background": "light"
     },
     "output_type": "display_data"
    }
   ],
   "source": [
    "# Let's make our correlation matrix a little prettier\n",
    "corr_matrix=df.corr()\n",
    "fig,ax=plt.subplots(figsize=(15,10))\n",
    "ax=sns.heatmap(df.corr(), annot = True, linewidths = 0.5, linecolor = \"red\", fmt = \".4f\", ax = ax )\n",
    "ax;"
   ]
  },
  {
   "cell_type": "markdown",
   "id": "136ccc5d",
   "metadata": {},
   "source": [
    "## 5. Modelling"
   ]
  },
  {
   "cell_type": "code",
   "execution_count": 84,
   "id": "4d26a533",
   "metadata": {},
   "outputs": [
    {
     "data": {
      "text/html": [
       "<div>\n",
       "<style scoped>\n",
       "    .dataframe tbody tr th:only-of-type {\n",
       "        vertical-align: middle;\n",
       "    }\n",
       "\n",
       "    .dataframe tbody tr th {\n",
       "        vertical-align: top;\n",
       "    }\n",
       "\n",
       "    .dataframe thead th {\n",
       "        text-align: right;\n",
       "    }\n",
       "</style>\n",
       "<table border=\"1\" class=\"dataframe\">\n",
       "  <thead>\n",
       "    <tr style=\"text-align: right;\">\n",
       "      <th></th>\n",
       "      <th>ph</th>\n",
       "      <th>Hardness</th>\n",
       "      <th>Solids</th>\n",
       "      <th>Chloramines</th>\n",
       "      <th>Sulfate</th>\n",
       "      <th>Conductivity</th>\n",
       "      <th>Organic_carbon</th>\n",
       "      <th>Trihalomethanes</th>\n",
       "      <th>Turbidity</th>\n",
       "      <th>Potability</th>\n",
       "    </tr>\n",
       "  </thead>\n",
       "  <tbody>\n",
       "    <tr>\n",
       "      <th>0</th>\n",
       "      <td>8.316766</td>\n",
       "      <td>214.373394</td>\n",
       "      <td>22018.417441</td>\n",
       "      <td>8.059332</td>\n",
       "      <td>356.886136</td>\n",
       "      <td>363.266516</td>\n",
       "      <td>18.436524</td>\n",
       "      <td>100.341674</td>\n",
       "      <td>4.628771</td>\n",
       "      <td>0</td>\n",
       "    </tr>\n",
       "    <tr>\n",
       "      <th>1</th>\n",
       "      <td>9.092223</td>\n",
       "      <td>181.101509</td>\n",
       "      <td>17978.986339</td>\n",
       "      <td>6.546600</td>\n",
       "      <td>310.135738</td>\n",
       "      <td>398.410813</td>\n",
       "      <td>11.558279</td>\n",
       "      <td>31.997993</td>\n",
       "      <td>4.075075</td>\n",
       "      <td>0</td>\n",
       "    </tr>\n",
       "    <tr>\n",
       "      <th>2</th>\n",
       "      <td>5.584087</td>\n",
       "      <td>188.313324</td>\n",
       "      <td>28748.687739</td>\n",
       "      <td>7.544869</td>\n",
       "      <td>326.678363</td>\n",
       "      <td>280.467916</td>\n",
       "      <td>8.399735</td>\n",
       "      <td>54.917862</td>\n",
       "      <td>2.559708</td>\n",
       "      <td>0</td>\n",
       "    </tr>\n",
       "    <tr>\n",
       "      <th>3</th>\n",
       "      <td>10.223862</td>\n",
       "      <td>248.071735</td>\n",
       "      <td>28749.716544</td>\n",
       "      <td>7.513408</td>\n",
       "      <td>393.663396</td>\n",
       "      <td>283.651634</td>\n",
       "      <td>13.789695</td>\n",
       "      <td>84.603556</td>\n",
       "      <td>2.672989</td>\n",
       "      <td>0</td>\n",
       "    </tr>\n",
       "    <tr>\n",
       "      <th>4</th>\n",
       "      <td>8.635849</td>\n",
       "      <td>203.361523</td>\n",
       "      <td>13672.091764</td>\n",
       "      <td>4.563009</td>\n",
       "      <td>303.309771</td>\n",
       "      <td>474.607645</td>\n",
       "      <td>12.363817</td>\n",
       "      <td>62.798309</td>\n",
       "      <td>4.401425</td>\n",
       "      <td>0</td>\n",
       "    </tr>\n",
       "  </tbody>\n",
       "</table>\n",
       "</div>"
      ],
      "text/plain": [
       "          ph    Hardness        Solids  Chloramines     Sulfate  Conductivity  \\\n",
       "0   8.316766  214.373394  22018.417441     8.059332  356.886136    363.266516   \n",
       "1   9.092223  181.101509  17978.986339     6.546600  310.135738    398.410813   \n",
       "2   5.584087  188.313324  28748.687739     7.544869  326.678363    280.467916   \n",
       "3  10.223862  248.071735  28749.716544     7.513408  393.663396    283.651634   \n",
       "4   8.635849  203.361523  13672.091764     4.563009  303.309771    474.607645   \n",
       "\n",
       "   Organic_carbon  Trihalomethanes  Turbidity  Potability  \n",
       "0       18.436524       100.341674   4.628771           0  \n",
       "1       11.558279        31.997993   4.075075           0  \n",
       "2        8.399735        54.917862   2.559708           0  \n",
       "3       13.789695        84.603556   2.672989           0  \n",
       "4       12.363817        62.798309   4.401425           0  "
      ]
     },
     "execution_count": 84,
     "metadata": {},
     "output_type": "execute_result"
    }
   ],
   "source": [
    "df.head()"
   ]
  },
  {
   "cell_type": "code",
   "execution_count": 19,
   "id": "82f2af59",
   "metadata": {},
   "outputs": [],
   "source": [
    "# Splitting the data into X and y\n",
    "X=df.drop('Potability',axis=1)\n",
    "y=df['Potability']"
   ]
  },
  {
   "cell_type": "code",
   "execution_count": 16,
   "id": "5db3a97a",
   "metadata": {},
   "outputs": [
    {
     "data": {
      "text/html": [
       "<div>\n",
       "<style scoped>\n",
       "    .dataframe tbody tr th:only-of-type {\n",
       "        vertical-align: middle;\n",
       "    }\n",
       "\n",
       "    .dataframe tbody tr th {\n",
       "        vertical-align: top;\n",
       "    }\n",
       "\n",
       "    .dataframe thead th {\n",
       "        text-align: right;\n",
       "    }\n",
       "</style>\n",
       "<table border=\"1\" class=\"dataframe\">\n",
       "  <thead>\n",
       "    <tr style=\"text-align: right;\">\n",
       "      <th></th>\n",
       "      <th>ph</th>\n",
       "      <th>Hardness</th>\n",
       "      <th>Solids</th>\n",
       "      <th>Chloramines</th>\n",
       "      <th>Sulfate</th>\n",
       "      <th>Conductivity</th>\n",
       "      <th>Organic_carbon</th>\n",
       "      <th>Trihalomethanes</th>\n",
       "      <th>Turbidity</th>\n",
       "    </tr>\n",
       "  </thead>\n",
       "  <tbody>\n",
       "    <tr>\n",
       "      <th>0</th>\n",
       "      <td>8.316766</td>\n",
       "      <td>214.373394</td>\n",
       "      <td>22018.417441</td>\n",
       "      <td>8.059332</td>\n",
       "      <td>356.886136</td>\n",
       "      <td>363.266516</td>\n",
       "      <td>18.436524</td>\n",
       "      <td>100.341674</td>\n",
       "      <td>4.628771</td>\n",
       "    </tr>\n",
       "    <tr>\n",
       "      <th>1</th>\n",
       "      <td>9.092223</td>\n",
       "      <td>181.101509</td>\n",
       "      <td>17978.986339</td>\n",
       "      <td>6.546600</td>\n",
       "      <td>310.135738</td>\n",
       "      <td>398.410813</td>\n",
       "      <td>11.558279</td>\n",
       "      <td>31.997993</td>\n",
       "      <td>4.075075</td>\n",
       "    </tr>\n",
       "    <tr>\n",
       "      <th>2</th>\n",
       "      <td>5.584087</td>\n",
       "      <td>188.313324</td>\n",
       "      <td>28748.687739</td>\n",
       "      <td>7.544869</td>\n",
       "      <td>326.678363</td>\n",
       "      <td>280.467916</td>\n",
       "      <td>8.399735</td>\n",
       "      <td>54.917862</td>\n",
       "      <td>2.559708</td>\n",
       "    </tr>\n",
       "    <tr>\n",
       "      <th>3</th>\n",
       "      <td>10.223862</td>\n",
       "      <td>248.071735</td>\n",
       "      <td>28749.716544</td>\n",
       "      <td>7.513408</td>\n",
       "      <td>393.663396</td>\n",
       "      <td>283.651634</td>\n",
       "      <td>13.789695</td>\n",
       "      <td>84.603556</td>\n",
       "      <td>2.672989</td>\n",
       "    </tr>\n",
       "    <tr>\n",
       "      <th>4</th>\n",
       "      <td>8.635849</td>\n",
       "      <td>203.361523</td>\n",
       "      <td>13672.091764</td>\n",
       "      <td>4.563009</td>\n",
       "      <td>303.309771</td>\n",
       "      <td>474.607645</td>\n",
       "      <td>12.363817</td>\n",
       "      <td>62.798309</td>\n",
       "      <td>4.401425</td>\n",
       "    </tr>\n",
       "    <tr>\n",
       "      <th>...</th>\n",
       "      <td>...</td>\n",
       "      <td>...</td>\n",
       "      <td>...</td>\n",
       "      <td>...</td>\n",
       "      <td>...</td>\n",
       "      <td>...</td>\n",
       "      <td>...</td>\n",
       "      <td>...</td>\n",
       "      <td>...</td>\n",
       "    </tr>\n",
       "    <tr>\n",
       "      <th>2006</th>\n",
       "      <td>8.989900</td>\n",
       "      <td>215.047358</td>\n",
       "      <td>15921.412018</td>\n",
       "      <td>6.297312</td>\n",
       "      <td>312.931022</td>\n",
       "      <td>390.410231</td>\n",
       "      <td>9.899115</td>\n",
       "      <td>55.069304</td>\n",
       "      <td>4.613843</td>\n",
       "    </tr>\n",
       "    <tr>\n",
       "      <th>2007</th>\n",
       "      <td>6.702547</td>\n",
       "      <td>207.321086</td>\n",
       "      <td>17246.920347</td>\n",
       "      <td>7.708117</td>\n",
       "      <td>304.510230</td>\n",
       "      <td>329.266002</td>\n",
       "      <td>16.217303</td>\n",
       "      <td>28.878601</td>\n",
       "      <td>3.442983</td>\n",
       "    </tr>\n",
       "    <tr>\n",
       "      <th>2008</th>\n",
       "      <td>11.491011</td>\n",
       "      <td>94.812545</td>\n",
       "      <td>37188.826022</td>\n",
       "      <td>9.263166</td>\n",
       "      <td>258.930600</td>\n",
       "      <td>439.893618</td>\n",
       "      <td>16.172755</td>\n",
       "      <td>41.558501</td>\n",
       "      <td>4.369264</td>\n",
       "    </tr>\n",
       "    <tr>\n",
       "      <th>2009</th>\n",
       "      <td>6.069616</td>\n",
       "      <td>186.659040</td>\n",
       "      <td>26138.780191</td>\n",
       "      <td>7.747547</td>\n",
       "      <td>345.700257</td>\n",
       "      <td>415.886955</td>\n",
       "      <td>12.067620</td>\n",
       "      <td>60.419921</td>\n",
       "      <td>3.669712</td>\n",
       "    </tr>\n",
       "    <tr>\n",
       "      <th>2010</th>\n",
       "      <td>4.668102</td>\n",
       "      <td>193.681735</td>\n",
       "      <td>47580.991603</td>\n",
       "      <td>7.166639</td>\n",
       "      <td>359.948574</td>\n",
       "      <td>526.424171</td>\n",
       "      <td>13.894419</td>\n",
       "      <td>66.687695</td>\n",
       "      <td>4.435821</td>\n",
       "    </tr>\n",
       "  </tbody>\n",
       "</table>\n",
       "<p>2011 rows × 9 columns</p>\n",
       "</div>"
      ],
      "text/plain": [
       "             ph    Hardness        Solids  Chloramines     Sulfate  \\\n",
       "0      8.316766  214.373394  22018.417441     8.059332  356.886136   \n",
       "1      9.092223  181.101509  17978.986339     6.546600  310.135738   \n",
       "2      5.584087  188.313324  28748.687739     7.544869  326.678363   \n",
       "3     10.223862  248.071735  28749.716544     7.513408  393.663396   \n",
       "4      8.635849  203.361523  13672.091764     4.563009  303.309771   \n",
       "...         ...         ...           ...          ...         ...   \n",
       "2006   8.989900  215.047358  15921.412018     6.297312  312.931022   \n",
       "2007   6.702547  207.321086  17246.920347     7.708117  304.510230   \n",
       "2008  11.491011   94.812545  37188.826022     9.263166  258.930600   \n",
       "2009   6.069616  186.659040  26138.780191     7.747547  345.700257   \n",
       "2010   4.668102  193.681735  47580.991603     7.166639  359.948574   \n",
       "\n",
       "      Conductivity  Organic_carbon  Trihalomethanes  Turbidity  \n",
       "0       363.266516       18.436524       100.341674   4.628771  \n",
       "1       398.410813       11.558279        31.997993   4.075075  \n",
       "2       280.467916        8.399735        54.917862   2.559708  \n",
       "3       283.651634       13.789695        84.603556   2.672989  \n",
       "4       474.607645       12.363817        62.798309   4.401425  \n",
       "...            ...             ...              ...        ...  \n",
       "2006    390.410231        9.899115        55.069304   4.613843  \n",
       "2007    329.266002       16.217303        28.878601   3.442983  \n",
       "2008    439.893618       16.172755        41.558501   4.369264  \n",
       "2009    415.886955       12.067620        60.419921   3.669712  \n",
       "2010    526.424171       13.894419        66.687695   4.435821  \n",
       "\n",
       "[2011 rows x 9 columns]"
      ]
     },
     "execution_count": 16,
     "metadata": {},
     "output_type": "execute_result"
    }
   ],
   "source": [
    "X"
   ]
  },
  {
   "cell_type": "code",
   "execution_count": 17,
   "id": "238f30ad",
   "metadata": {},
   "outputs": [
    {
     "data": {
      "text/plain": [
       "0       0\n",
       "1       0\n",
       "2       0\n",
       "3       0\n",
       "4       0\n",
       "       ..\n",
       "2006    1\n",
       "2007    1\n",
       "2008    1\n",
       "2009    1\n",
       "2010    1\n",
       "Name: Potability, Length: 2011, dtype: int64"
      ]
     },
     "execution_count": 17,
     "metadata": {},
     "output_type": "execute_result"
    }
   ],
   "source": [
    "y"
   ]
  },
  {
   "cell_type": "code",
   "execution_count": 20,
   "id": "4d0547b6",
   "metadata": {},
   "outputs": [],
   "source": [
    "# Splitting the data into training set and test set\n",
    "np.random.seed(42)\n",
    "X_train,X_test,y_train,y_test=train_test_split(X,y,test_size=0.2)"
   ]
  },
  {
   "cell_type": "code",
   "execution_count": 21,
   "id": "6ba02df5",
   "metadata": {},
   "outputs": [
    {
     "data": {
      "text/html": [
       "<div>\n",
       "<style scoped>\n",
       "    .dataframe tbody tr th:only-of-type {\n",
       "        vertical-align: middle;\n",
       "    }\n",
       "\n",
       "    .dataframe tbody tr th {\n",
       "        vertical-align: top;\n",
       "    }\n",
       "\n",
       "    .dataframe thead th {\n",
       "        text-align: right;\n",
       "    }\n",
       "</style>\n",
       "<table border=\"1\" class=\"dataframe\">\n",
       "  <thead>\n",
       "    <tr style=\"text-align: right;\">\n",
       "      <th></th>\n",
       "      <th>ph</th>\n",
       "      <th>Hardness</th>\n",
       "      <th>Solids</th>\n",
       "      <th>Chloramines</th>\n",
       "      <th>Sulfate</th>\n",
       "      <th>Conductivity</th>\n",
       "      <th>Organic_carbon</th>\n",
       "      <th>Trihalomethanes</th>\n",
       "      <th>Turbidity</th>\n",
       "    </tr>\n",
       "  </thead>\n",
       "  <tbody>\n",
       "    <tr>\n",
       "      <th>261</th>\n",
       "      <td>9.927024</td>\n",
       "      <td>208.490738</td>\n",
       "      <td>19666.992792</td>\n",
       "      <td>8.008618</td>\n",
       "      <td>340.237824</td>\n",
       "      <td>482.842435</td>\n",
       "      <td>11.360427</td>\n",
       "      <td>85.829113</td>\n",
       "      <td>4.051733</td>\n",
       "    </tr>\n",
       "    <tr>\n",
       "      <th>607</th>\n",
       "      <td>8.769676</td>\n",
       "      <td>215.368742</td>\n",
       "      <td>13969.438863</td>\n",
       "      <td>7.548543</td>\n",
       "      <td>322.799070</td>\n",
       "      <td>369.016667</td>\n",
       "      <td>18.919188</td>\n",
       "      <td>54.755214</td>\n",
       "      <td>3.776718</td>\n",
       "    </tr>\n",
       "    <tr>\n",
       "      <th>1965</th>\n",
       "      <td>8.077261</td>\n",
       "      <td>125.302719</td>\n",
       "      <td>23931.282833</td>\n",
       "      <td>8.773162</td>\n",
       "      <td>317.693331</td>\n",
       "      <td>398.328789</td>\n",
       "      <td>15.279583</td>\n",
       "      <td>62.668356</td>\n",
       "      <td>4.279871</td>\n",
       "    </tr>\n",
       "    <tr>\n",
       "      <th>240</th>\n",
       "      <td>9.739562</td>\n",
       "      <td>166.948864</td>\n",
       "      <td>13623.160063</td>\n",
       "      <td>7.235922</td>\n",
       "      <td>385.059134</td>\n",
       "      <td>369.591289</td>\n",
       "      <td>12.322604</td>\n",
       "      <td>68.505852</td>\n",
       "      <td>2.568080</td>\n",
       "    </tr>\n",
       "    <tr>\n",
       "      <th>819</th>\n",
       "      <td>5.343075</td>\n",
       "      <td>211.662091</td>\n",
       "      <td>45166.912141</td>\n",
       "      <td>6.651801</td>\n",
       "      <td>279.767500</td>\n",
       "      <td>485.959717</td>\n",
       "      <td>19.682337</td>\n",
       "      <td>70.546862</td>\n",
       "      <td>4.240032</td>\n",
       "    </tr>\n",
       "    <tr>\n",
       "      <th>...</th>\n",
       "      <td>...</td>\n",
       "      <td>...</td>\n",
       "      <td>...</td>\n",
       "      <td>...</td>\n",
       "      <td>...</td>\n",
       "      <td>...</td>\n",
       "      <td>...</td>\n",
       "      <td>...</td>\n",
       "      <td>...</td>\n",
       "    </tr>\n",
       "    <tr>\n",
       "      <th>1130</th>\n",
       "      <td>7.965337</td>\n",
       "      <td>151.541889</td>\n",
       "      <td>25274.610305</td>\n",
       "      <td>7.106043</td>\n",
       "      <td>352.316182</td>\n",
       "      <td>527.688242</td>\n",
       "      <td>15.792625</td>\n",
       "      <td>52.268490</td>\n",
       "      <td>3.390982</td>\n",
       "    </tr>\n",
       "    <tr>\n",
       "      <th>1294</th>\n",
       "      <td>6.519848</td>\n",
       "      <td>183.225998</td>\n",
       "      <td>14284.647917</td>\n",
       "      <td>8.389078</td>\n",
       "      <td>373.091575</td>\n",
       "      <td>495.417954</td>\n",
       "      <td>11.638475</td>\n",
       "      <td>58.661649</td>\n",
       "      <td>3.272286</td>\n",
       "    </tr>\n",
       "    <tr>\n",
       "      <th>860</th>\n",
       "      <td>7.615557</td>\n",
       "      <td>204.869974</td>\n",
       "      <td>8403.284552</td>\n",
       "      <td>6.012316</td>\n",
       "      <td>418.309431</td>\n",
       "      <td>311.178955</td>\n",
       "      <td>12.742329</td>\n",
       "      <td>67.282328</td>\n",
       "      <td>4.243134</td>\n",
       "    </tr>\n",
       "    <tr>\n",
       "      <th>1459</th>\n",
       "      <td>7.899452</td>\n",
       "      <td>210.734124</td>\n",
       "      <td>15896.365937</td>\n",
       "      <td>6.907203</td>\n",
       "      <td>319.886957</td>\n",
       "      <td>448.666423</td>\n",
       "      <td>18.169921</td>\n",
       "      <td>124.000000</td>\n",
       "      <td>2.853767</td>\n",
       "    </tr>\n",
       "    <tr>\n",
       "      <th>1126</th>\n",
       "      <td>6.854947</td>\n",
       "      <td>149.853487</td>\n",
       "      <td>16203.090697</td>\n",
       "      <td>5.734804</td>\n",
       "      <td>375.718660</td>\n",
       "      <td>350.344708</td>\n",
       "      <td>11.718895</td>\n",
       "      <td>75.498737</td>\n",
       "      <td>4.938999</td>\n",
       "    </tr>\n",
       "  </tbody>\n",
       "</table>\n",
       "<p>1608 rows × 9 columns</p>\n",
       "</div>"
      ],
      "text/plain": [
       "            ph    Hardness        Solids  Chloramines     Sulfate  \\\n",
       "261   9.927024  208.490738  19666.992792     8.008618  340.237824   \n",
       "607   8.769676  215.368742  13969.438863     7.548543  322.799070   \n",
       "1965  8.077261  125.302719  23931.282833     8.773162  317.693331   \n",
       "240   9.739562  166.948864  13623.160063     7.235922  385.059134   \n",
       "819   5.343075  211.662091  45166.912141     6.651801  279.767500   \n",
       "...        ...         ...           ...          ...         ...   \n",
       "1130  7.965337  151.541889  25274.610305     7.106043  352.316182   \n",
       "1294  6.519848  183.225998  14284.647917     8.389078  373.091575   \n",
       "860   7.615557  204.869974   8403.284552     6.012316  418.309431   \n",
       "1459  7.899452  210.734124  15896.365937     6.907203  319.886957   \n",
       "1126  6.854947  149.853487  16203.090697     5.734804  375.718660   \n",
       "\n",
       "      Conductivity  Organic_carbon  Trihalomethanes  Turbidity  \n",
       "261     482.842435       11.360427        85.829113   4.051733  \n",
       "607     369.016667       18.919188        54.755214   3.776718  \n",
       "1965    398.328789       15.279583        62.668356   4.279871  \n",
       "240     369.591289       12.322604        68.505852   2.568080  \n",
       "819     485.959717       19.682337        70.546862   4.240032  \n",
       "...            ...             ...              ...        ...  \n",
       "1130    527.688242       15.792625        52.268490   3.390982  \n",
       "1294    495.417954       11.638475        58.661649   3.272286  \n",
       "860     311.178955       12.742329        67.282328   4.243134  \n",
       "1459    448.666423       18.169921       124.000000   2.853767  \n",
       "1126    350.344708       11.718895        75.498737   4.938999  \n",
       "\n",
       "[1608 rows x 9 columns]"
      ]
     },
     "execution_count": 21,
     "metadata": {},
     "output_type": "execute_result"
    }
   ],
   "source": [
    "X_train"
   ]
  },
  {
   "cell_type": "code",
   "execution_count": 92,
   "id": "3850d3d4",
   "metadata": {},
   "outputs": [
    {
     "data": {
      "text/html": [
       "<div>\n",
       "<style scoped>\n",
       "    .dataframe tbody tr th:only-of-type {\n",
       "        vertical-align: middle;\n",
       "    }\n",
       "\n",
       "    .dataframe tbody tr th {\n",
       "        vertical-align: top;\n",
       "    }\n",
       "\n",
       "    .dataframe thead th {\n",
       "        text-align: right;\n",
       "    }\n",
       "</style>\n",
       "<table border=\"1\" class=\"dataframe\">\n",
       "  <thead>\n",
       "    <tr style=\"text-align: right;\">\n",
       "      <th></th>\n",
       "      <th>ph</th>\n",
       "      <th>Hardness</th>\n",
       "      <th>Solids</th>\n",
       "      <th>Chloramines</th>\n",
       "      <th>Sulfate</th>\n",
       "      <th>Conductivity</th>\n",
       "      <th>Organic_carbon</th>\n",
       "      <th>Trihalomethanes</th>\n",
       "      <th>Turbidity</th>\n",
       "    </tr>\n",
       "  </thead>\n",
       "  <tbody>\n",
       "    <tr>\n",
       "      <th>1317</th>\n",
       "      <td>8.157518</td>\n",
       "      <td>236.344440</td>\n",
       "      <td>27931.208402</td>\n",
       "      <td>6.203676</td>\n",
       "      <td>325.323955</td>\n",
       "      <td>511.587664</td>\n",
       "      <td>13.381575</td>\n",
       "      <td>80.686958</td>\n",
       "      <td>4.469431</td>\n",
       "    </tr>\n",
       "    <tr>\n",
       "      <th>526</th>\n",
       "      <td>8.296344</td>\n",
       "      <td>198.197051</td>\n",
       "      <td>17468.999802</td>\n",
       "      <td>8.262904</td>\n",
       "      <td>369.590740</td>\n",
       "      <td>294.325142</td>\n",
       "      <td>18.026098</td>\n",
       "      <td>44.061625</td>\n",
       "      <td>5.400811</td>\n",
       "    </tr>\n",
       "    <tr>\n",
       "      <th>393</th>\n",
       "      <td>6.576845</td>\n",
       "      <td>156.221768</td>\n",
       "      <td>12772.095750</td>\n",
       "      <td>9.759898</td>\n",
       "      <td>341.749378</td>\n",
       "      <td>418.972467</td>\n",
       "      <td>10.382253</td>\n",
       "      <td>78.305180</td>\n",
       "      <td>3.771314</td>\n",
       "    </tr>\n",
       "    <tr>\n",
       "      <th>1405</th>\n",
       "      <td>7.606067</td>\n",
       "      <td>248.041453</td>\n",
       "      <td>14609.976883</td>\n",
       "      <td>6.356555</td>\n",
       "      <td>322.356572</td>\n",
       "      <td>275.317146</td>\n",
       "      <td>11.706095</td>\n",
       "      <td>94.775244</td>\n",
       "      <td>4.581477</td>\n",
       "    </tr>\n",
       "    <tr>\n",
       "      <th>433</th>\n",
       "      <td>5.393346</td>\n",
       "      <td>172.550261</td>\n",
       "      <td>28099.038729</td>\n",
       "      <td>5.789669</td>\n",
       "      <td>372.621943</td>\n",
       "      <td>505.542349</td>\n",
       "      <td>17.530704</td>\n",
       "      <td>67.273874</td>\n",
       "      <td>4.633855</td>\n",
       "    </tr>\n",
       "    <tr>\n",
       "      <th>...</th>\n",
       "      <td>...</td>\n",
       "      <td>...</td>\n",
       "      <td>...</td>\n",
       "      <td>...</td>\n",
       "      <td>...</td>\n",
       "      <td>...</td>\n",
       "      <td>...</td>\n",
       "      <td>...</td>\n",
       "      <td>...</td>\n",
       "    </tr>\n",
       "    <tr>\n",
       "      <th>733</th>\n",
       "      <td>3.637171</td>\n",
       "      <td>238.943744</td>\n",
       "      <td>10102.489720</td>\n",
       "      <td>7.532192</td>\n",
       "      <td>337.534425</td>\n",
       "      <td>509.150323</td>\n",
       "      <td>13.818450</td>\n",
       "      <td>49.652834</td>\n",
       "      <td>5.446566</td>\n",
       "    </tr>\n",
       "    <tr>\n",
       "      <th>1474</th>\n",
       "      <td>4.881730</td>\n",
       "      <td>136.990466</td>\n",
       "      <td>19105.014903</td>\n",
       "      <td>7.264678</td>\n",
       "      <td>419.716412</td>\n",
       "      <td>358.046318</td>\n",
       "      <td>13.399392</td>\n",
       "      <td>75.934052</td>\n",
       "      <td>3.050198</td>\n",
       "    </tr>\n",
       "    <tr>\n",
       "      <th>692</th>\n",
       "      <td>8.775486</td>\n",
       "      <td>157.354289</td>\n",
       "      <td>22113.391452</td>\n",
       "      <td>7.931503</td>\n",
       "      <td>304.807845</td>\n",
       "      <td>480.715208</td>\n",
       "      <td>15.692839</td>\n",
       "      <td>82.929345</td>\n",
       "      <td>4.393944</td>\n",
       "    </tr>\n",
       "    <tr>\n",
       "      <th>1767</th>\n",
       "      <td>7.710138</td>\n",
       "      <td>174.350577</td>\n",
       "      <td>31017.239418</td>\n",
       "      <td>8.212234</td>\n",
       "      <td>269.859799</td>\n",
       "      <td>437.514066</td>\n",
       "      <td>9.320040</td>\n",
       "      <td>51.545335</td>\n",
       "      <td>3.898671</td>\n",
       "    </tr>\n",
       "    <tr>\n",
       "      <th>1624</th>\n",
       "      <td>8.000776</td>\n",
       "      <td>237.519250</td>\n",
       "      <td>18419.132883</td>\n",
       "      <td>8.323330</td>\n",
       "      <td>308.006321</td>\n",
       "      <td>396.376554</td>\n",
       "      <td>13.492536</td>\n",
       "      <td>82.753278</td>\n",
       "      <td>4.519210</td>\n",
       "    </tr>\n",
       "  </tbody>\n",
       "</table>\n",
       "<p>403 rows × 9 columns</p>\n",
       "</div>"
      ],
      "text/plain": [
       "            ph    Hardness        Solids  Chloramines     Sulfate  \\\n",
       "1317  8.157518  236.344440  27931.208402     6.203676  325.323955   \n",
       "526   8.296344  198.197051  17468.999802     8.262904  369.590740   \n",
       "393   6.576845  156.221768  12772.095750     9.759898  341.749378   \n",
       "1405  7.606067  248.041453  14609.976883     6.356555  322.356572   \n",
       "433   5.393346  172.550261  28099.038729     5.789669  372.621943   \n",
       "...        ...         ...           ...          ...         ...   \n",
       "733   3.637171  238.943744  10102.489720     7.532192  337.534425   \n",
       "1474  4.881730  136.990466  19105.014903     7.264678  419.716412   \n",
       "692   8.775486  157.354289  22113.391452     7.931503  304.807845   \n",
       "1767  7.710138  174.350577  31017.239418     8.212234  269.859799   \n",
       "1624  8.000776  237.519250  18419.132883     8.323330  308.006321   \n",
       "\n",
       "      Conductivity  Organic_carbon  Trihalomethanes  Turbidity  \n",
       "1317    511.587664       13.381575        80.686958   4.469431  \n",
       "526     294.325142       18.026098        44.061625   5.400811  \n",
       "393     418.972467       10.382253        78.305180   3.771314  \n",
       "1405    275.317146       11.706095        94.775244   4.581477  \n",
       "433     505.542349       17.530704        67.273874   4.633855  \n",
       "...            ...             ...              ...        ...  \n",
       "733     509.150323       13.818450        49.652834   5.446566  \n",
       "1474    358.046318       13.399392        75.934052   3.050198  \n",
       "692     480.715208       15.692839        82.929345   4.393944  \n",
       "1767    437.514066        9.320040        51.545335   3.898671  \n",
       "1624    396.376554       13.492536        82.753278   4.519210  \n",
       "\n",
       "[403 rows x 9 columns]"
      ]
     },
     "execution_count": 92,
     "metadata": {},
     "output_type": "execute_result"
    }
   ],
   "source": [
    "X_test"
   ]
  },
  {
   "cell_type": "code",
   "execution_count": 94,
   "id": "c257d8eb",
   "metadata": {},
   "outputs": [
    {
     "data": {
      "text/plain": [
       "261     0\n",
       "607     0\n",
       "1965    1\n",
       "240     1\n",
       "819     0\n",
       "       ..\n",
       "1130    0\n",
       "1294    0\n",
       "860     0\n",
       "1459    1\n",
       "1126    0\n",
       "Name: Potability, Length: 1608, dtype: int64"
      ]
     },
     "execution_count": 94,
     "metadata": {},
     "output_type": "execute_result"
    }
   ],
   "source": [
    "y_train"
   ]
  },
  {
   "cell_type": "code",
   "execution_count": 19,
   "id": "fd0137ef",
   "metadata": {},
   "outputs": [
    {
     "data": {
      "text/plain": [
       "1317    0\n",
       "526     0\n",
       "393     0\n",
       "1405    0\n",
       "433     1\n",
       "       ..\n",
       "733     1\n",
       "1474    1\n",
       "692     1\n",
       "1767    0\n",
       "1624    0\n",
       "Name: Potability, Length: 403, dtype: int64"
      ]
     },
     "execution_count": 19,
     "metadata": {},
     "output_type": "execute_result"
    }
   ],
   "source": [
    "y_test"
   ]
  },
  {
   "cell_type": "markdown",
   "id": "4dec1ecf",
   "metadata": {},
   "source": [
    "Now we've got our data split into training and test sets, its time to build a machine learning model.\n",
    "\n",
    "We'll train it (find the patterns) on the training set.\n",
    "\n",
    "And We'll test it (use the patterns) on the test set.\n",
    "\n",
    "We're going to try 3 different machine learning models:\n",
    "1. Logistic Regression\n",
    "2. K-Nearest Neighbors Classifier\n",
    "3. Random Forest Classifier\n",
    "\n",
    "Logistic Regression \n",
    "\n",
    "The logistic regression statistic modeling technique is used when we have a binary outcome variable. For example: given the parameters, will the student pass or fail? Will it rain or not? etc. So, though we may have continuous or categorical independent variables, we can use the logistic regression modeling technique to predict the outcome when the outcome variable is binary.\n",
    "\n",
    "K-Nearest Neighbors Classifier\n",
    "\n",
    "The k-nearest neighbors algorithm, also known as KNN or k-NN, is a non-parametric, supervised learning classifier, which uses proximity to make classifications or predictions about the grouping of an individual data point.\n",
    "\n",
    "Random Forest Classifier\n",
    "\n",
    "A random forest is a meta estimator that fits a number of decision tree classifiers on various sub-samples of the dataset and uses averaging to improve the predictive accuracy and control over-fitting."
   ]
  },
  {
   "cell_type": "code",
   "execution_count": 22,
   "id": "841e65fd",
   "metadata": {},
   "outputs": [],
   "source": [
    "# Put models in a dictionary\n",
    "models={\"Logistic Regression\": LogisticRegression(),\n",
    "        \"KNN\": KNeighborsClassifier(),\n",
    "        \"Random Forest Classifier\": RandomForestClassifier()}\n",
    "# Create a function to fit and score models\n",
    "def fit_and_score(models, X_train, X_test, y_train, y_test):\n",
    "    \"\"\"\n",
    "    Fits and evaluate given machine learning models.\n",
    "    models : a dict of differnt Scikit-Learn machine learning models\n",
    "    X_train : training data (no labels)\n",
    "    X_test : testing data(no labels)\n",
    "    y_train : training labels\n",
    "    y_test : test labels\n",
    "    \"\"\"\n",
    "    # Set random seed\n",
    "    np.random.seed(42)\n",
    "    # Make a dictionary to keep model scores\n",
    "    model_scores={}\n",
    "    #Loop through models\n",
    "    for name,model in models.items():\n",
    "        # Fit the model to the data\n",
    "        model.fit(X_train,y_train)\n",
    "        # Evaluate the model and append its score to model_scores\n",
    "        model_scores[name] = model.score(X_test,y_test)\n",
    "    return model_scores  "
   ]
  },
  {
   "cell_type": "code",
   "execution_count": 23,
   "id": "3ab1af93",
   "metadata": {},
   "outputs": [
    {
     "data": {
      "text/plain": [
       "{'Logistic Regression': 0.5732009925558312,\n",
       " 'KNN': 0.5409429280397022,\n",
       " 'Random Forest Classifier': 0.652605459057072}"
      ]
     },
     "execution_count": 23,
     "metadata": {},
     "output_type": "execute_result"
    }
   ],
   "source": [
    "model_scores = fit_and_score(models=models,X_train=X_train,X_test=X_test,y_train=y_train,y_test=y_test)\n",
    "model_scores"
   ]
  },
  {
   "cell_type": "code",
   "execution_count": 24,
   "id": "6ecf586c",
   "metadata": {},
   "outputs": [
    {
     "data": {
      "image/png": "[encoded data removed]",
      "text/plain": [
       "<Figure size 432x288 with 1 Axes>"
      ]
     },
     "metadata": {
      "needs_background": "light"
     },
     "output_type": "display_data"
    }
   ],
   "source": [
    "model_compare=pd.DataFrame(model_scores,index=[\"accuracy\"])\n",
    "model_compare.T.plot.bar();"
   ]
  },
  {
   "cell_type": "markdown",
   "id": "565f8781",
   "metadata": {},
   "source": [
    "Now we've got a baseline model... and we know a model's first predictions aren't always what we should based ournext steps off. What should we do?\n",
    "\n",
    "Let's look at the following:\n",
    "* Hyperparameter tuning\n",
    "* Feature importance\n",
    "* Confusion Matrix\n",
    "* Cross-Validation\n",
    "* Precision\n",
    "* Recall\n",
    "* F1 Score\n",
    "* Classification Report\n",
    "* ROC Curve\n",
    "* Area under the curve (AUC)\n",
    "\n",
    "## Hyperparameter Tuning"
   ]
  },
  {
   "cell_type": "code",
   "execution_count": 25,
   "id": "73a17c1b",
   "metadata": {},
   "outputs": [],
   "source": [
    "# Let's tune KNN\n",
    "\n",
    "train_scores=[]\n",
    "test_scores=[]\n",
    "\n",
    "# Create a list of different values for n_neighbors\n",
    "neighbors=range(1,21)\n",
    "\n",
    "# Setup KNN instance\n",
    "knn = KNeighborsClassifier()\n",
    "\n",
    "# Loop through different n_neighbors\n",
    "for i in neighbors:\n",
    "    knn.set_params(n_neighbors=i)\n",
    "    \n",
    "    # Fit the algorithms\n",
    "    knn.fit(X_train,y_train)\n",
    "    \n",
    "    # Update the training scores list\n",
    "    train_scores.append(knn.score(X_train,y_train))\n",
    "    \n",
    "    # Update the test scores list\n",
    "    test_scores.append(knn.score(X_test,y_test))"
   ]
  },
  {
   "cell_type": "code",
   "execution_count": 12,
   "id": "3ca8d72c",
   "metadata": {},
   "outputs": [
    {
     "data": {
      "text/plain": [
       "[1.0,\n",
       " 0.7549751243781094,\n",
       " 0.7481343283582089,\n",
       " 0.6902985074626866,\n",
       " 0.695273631840796,\n",
       " 0.6927860696517413,\n",
       " 0.6847014925373134,\n",
       " 0.6759950248756219,\n",
       " 0.6741293532338308,\n",
       " 0.6623134328358209,\n",
       " 0.6654228855721394,\n",
       " 0.6511194029850746,\n",
       " 0.652363184079602,\n",
       " 0.6393034825870647,\n",
       " 0.6467661691542289,\n",
       " 0.6411691542288557,\n",
       " 0.6374378109452736,\n",
       " 0.6324626865671642,\n",
       " 0.6330845771144279,\n",
       " 0.6380597014925373]"
      ]
     },
     "execution_count": 12,
     "metadata": {},
     "output_type": "execute_result"
    }
   ],
   "source": [
    "train_scores"
   ]
  },
  {
   "cell_type": "code",
   "execution_count": 13,
   "id": "21164ab6",
   "metadata": {},
   "outputs": [
    {
     "data": {
      "text/plain": [
       "[0.5583126550868487,\n",
       " 0.5856079404466501,\n",
       " 0.5235732009925558,\n",
       " 0.56575682382134,\n",
       " 0.5409429280397022,\n",
       " 0.5508684863523573,\n",
       " 0.5459057071960298,\n",
       " 0.5781637717121588,\n",
       " 0.575682382133995,\n",
       " 0.56575682382134,\n",
       " 0.5508684863523573,\n",
       " 0.5632754342431762,\n",
       " 0.5384615384615384,\n",
       " 0.5508684863523573,\n",
       " 0.5459057071960298,\n",
       " 0.5607940446650124,\n",
       " 0.543424317617866,\n",
       " 0.5558312655086849,\n",
       " 0.5359801488833746,\n",
       " 0.5558312655086849]"
      ]
     },
     "execution_count": 13,
     "metadata": {},
     "output_type": "execute_result"
    }
   ],
   "source": [
    "test_scores"
   ]
  },
  {
   "cell_type": "code",
   "execution_count": 26,
   "id": "2d2d6cac",
   "metadata": {},
   "outputs": [
    {
     "name": "stdout",
     "output_type": "stream",
     "text": [
      "Maximum KNN score on the test data: 58.56%\n"
     ]
    },
    {
     "data": {
      "image/png": "[encoded data removed]",
      "text/plain": [
       "<Figure size 432x288 with 1 Axes>"
      ]
     },
     "metadata": {
      "needs_background": "light"
     },
     "output_type": "display_data"
    }
   ],
   "source": [
    "plt.plot(neighbors, train_scores, label=\"Train Score\")\n",
    "plt.plot(neighbors, test_scores, label=\"Test Score\")\n",
    "plt.xticks(np.arange(1,21,1))\n",
    "plt.xlabel(\"Number of Neighbors\")\n",
    "plt.ylabel(\"Model Score\")\n",
    "plt.legend()\n",
    "\n",
    "print(f\"Maximum KNN score on the test data: {max(test_scores)*100:.2f}%\")"
   ]
  },
  {
   "cell_type": "markdown",
   "id": "043814df",
   "metadata": {},
   "source": [
    "## Hyperparameters tuning with RandomizedSearchCV\n",
    "\n",
    "We're going to tune:\n",
    "* LogisticRegression\n",
    "* RandomForestClassifier()\n",
    "\n",
    "... using RandomizedSearchCmV"
   ]
  },
  {
   "cell_type": "code",
   "execution_count": 27,
   "id": "df2682f0",
   "metadata": {},
   "outputs": [],
   "source": [
    "# Create a hyperparameter grid for LogisticRegression\n",
    "log_reg_grid={\"C\":np.logspace(-5,5,25),\n",
    "              \"solver\": ['liblinear','sag']}\n",
    "\n",
    "# Create a hyperparameter grid for RandomForestClassifier\n",
    "rf_grid = {\"n_estimators\": np.arange(10,1000,30),\n",
    "           \"max_depth\": [None,3,5,7,10],\n",
    "           \"min_samples_split\": np.arange(1,20,2),\n",
    "           \"min_samples_leaf\": np.arange(1,20,2)}"
   ]
  },
  {
   "cell_type": "markdown",
   "id": "7209c002",
   "metadata": {},
   "source": [
    "Now we've got hyperparameter grids setup for each of our models,let's tune them using RandomizedSearchCV`"
   ]
  },
  {
   "cell_type": "code",
   "execution_count": 28,
   "id": "89a7c76e",
   "metadata": {},
   "outputs": [
    {
     "name": "stdout",
     "output_type": "stream",
     "text": [
      "Fitting 5 folds for each of 20 candidates, totalling 100 fits\n"
     ]
    },
    {
     "name": "stderr",
     "output_type": "stream",
     "text": [
      "C:\\Users\\hp\\Desktop\\Water-Potability\\env\\lib\\site-packages\\sklearn\\linear_model\\_sag.py:350: ConvergenceWarning: The max_iter was reached which means the coef_ did not converge\n",
      "  warnings.warn(\n",
      "C:\\Users\\hp\\Desktop\\Water-Potability\\env\\lib\\site-packages\\sklearn\\linear_model\\_sag.py:350: ConvergenceWarning: The max_iter was reached which means the coef_ did not converge\n",
      "  warnings.warn(\n",
      "C:\\Users\\hp\\Desktop\\Water-Potability\\env\\lib\\site-packages\\sklearn\\linear_model\\_sag.py:350: ConvergenceWarning: The max_iter was reached which means the coef_ did not converge\n",
      "  warnings.warn(\n",
      "C:\\Users\\hp\\Desktop\\Water-Potability\\env\\lib\\site-packages\\sklearn\\linear_model\\_sag.py:350: ConvergenceWarning: The max_iter was reached which means the coef_ did not converge\n",
      "  warnings.warn(\n",
      "C:\\Users\\hp\\Desktop\\Water-Potability\\env\\lib\\site-packages\\sklearn\\linear_model\\_sag.py:350: ConvergenceWarning: The max_iter was reached which means the coef_ did not converge\n",
      "  warnings.warn(\n",
      "C:\\Users\\hp\\Desktop\\Water-Potability\\env\\lib\\site-packages\\sklearn\\linear_model\\_sag.py:350: ConvergenceWarning: The max_iter was reached which means the coef_ did not converge\n",
      "  warnings.warn(\n",
      "C:\\Users\\hp\\Desktop\\Water-Potability\\env\\lib\\site-packages\\sklearn\\linear_model\\_sag.py:350: ConvergenceWarning: The max_iter was reached which means the coef_ did not converge\n",
      "  warnings.warn(\n",
      "C:\\Users\\hp\\Desktop\\Water-Potability\\env\\lib\\site-packages\\sklearn\\linear_model\\_sag.py:350: ConvergenceWarning: The max_iter was reached which means the coef_ did not converge\n",
      "  warnings.warn(\n",
      "C:\\Users\\hp\\Desktop\\Water-Potability\\env\\lib\\site-packages\\sklearn\\linear_model\\_sag.py:350: ConvergenceWarning: The max_iter was reached which means the coef_ did not converge\n",
      "  warnings.warn(\n",
      "C:\\Users\\hp\\Desktop\\Water-Potability\\env\\lib\\site-packages\\sklearn\\linear_model\\_sag.py:350: ConvergenceWarning: The max_iter was reached which means the coef_ did not converge\n",
      "  warnings.warn(\n",
      "C:\\Users\\hp\\Desktop\\Water-Potability\\env\\lib\\site-packages\\sklearn\\linear_model\\_sag.py:350: ConvergenceWarning: The max_iter was reached which means the coef_ did not converge\n",
      "  warnings.warn(\n",
      "C:\\Users\\hp\\Desktop\\Water-Potability\\env\\lib\\site-packages\\sklearn\\linear_model\\_sag.py:350: ConvergenceWarning: The max_iter was reached which means the coef_ did not converge\n",
      "  warnings.warn(\n",
      "C:\\Users\\hp\\Desktop\\Water-Potability\\env\\lib\\site-packages\\sklearn\\linear_model\\_sag.py:350: ConvergenceWarning: The max_iter was reached which means the coef_ did not converge\n",
      "  warnings.warn(\n",
      "C:\\Users\\hp\\Desktop\\Water-Potability\\env\\lib\\site-packages\\sklearn\\linear_model\\_sag.py:350: ConvergenceWarning: The max_iter was reached which means the coef_ did not converge\n",
      "  warnings.warn(\n",
      "C:\\Users\\hp\\Desktop\\Water-Potability\\env\\lib\\site-packages\\sklearn\\linear_model\\_sag.py:350: ConvergenceWarning: The max_iter was reached which means the coef_ did not converge\n",
      "  warnings.warn(\n",
      "C:\\Users\\hp\\Desktop\\Water-Potability\\env\\lib\\site-packages\\sklearn\\linear_model\\_sag.py:350: ConvergenceWarning: The max_iter was reached which means the coef_ did not converge\n",
      "  warnings.warn(\n",
      "C:\\Users\\hp\\Desktop\\Water-Potability\\env\\lib\\site-packages\\sklearn\\linear_model\\_sag.py:350: ConvergenceWarning: The max_iter was reached which means the coef_ did not converge\n",
      "  warnings.warn(\n",
      "C:\\Users\\hp\\Desktop\\Water-Potability\\env\\lib\\site-packages\\sklearn\\linear_model\\_sag.py:350: ConvergenceWarning: The max_iter was reached which means the coef_ did not converge\n",
      "  warnings.warn(\n",
      "C:\\Users\\hp\\Desktop\\Water-Potability\\env\\lib\\site-packages\\sklearn\\linear_model\\_sag.py:350: ConvergenceWarning: The max_iter was reached which means the coef_ did not converge\n",
      "  warnings.warn(\n",
      "C:\\Users\\hp\\Desktop\\Water-Potability\\env\\lib\\site-packages\\sklearn\\linear_model\\_sag.py:350: ConvergenceWarning: The max_iter was reached which means the coef_ did not converge\n",
      "  warnings.warn(\n",
      "C:\\Users\\hp\\Desktop\\Water-Potability\\env\\lib\\site-packages\\sklearn\\linear_model\\_sag.py:350: ConvergenceWarning: The max_iter was reached which means the coef_ did not converge\n",
      "  warnings.warn(\n",
      "C:\\Users\\hp\\Desktop\\Water-Potability\\env\\lib\\site-packages\\sklearn\\linear_model\\_sag.py:350: ConvergenceWarning: The max_iter was reached which means the coef_ did not converge\n",
      "  warnings.warn(\n",
      "C:\\Users\\hp\\Desktop\\Water-Potability\\env\\lib\\site-packages\\sklearn\\linear_model\\_sag.py:350: ConvergenceWarning: The max_iter was reached which means the coef_ did not converge\n",
      "  warnings.warn(\n",
      "C:\\Users\\hp\\Desktop\\Water-Potability\\env\\lib\\site-packages\\sklearn\\linear_model\\_sag.py:350: ConvergenceWarning: The max_iter was reached which means the coef_ did not converge\n",
      "  warnings.warn(\n",
      "C:\\Users\\hp\\Desktop\\Water-Potability\\env\\lib\\site-packages\\sklearn\\linear_model\\_sag.py:350: ConvergenceWarning: The max_iter was reached which means the coef_ did not converge\n",
      "  warnings.warn(\n",
      "C:\\Users\\hp\\Desktop\\Water-Potability\\env\\lib\\site-packages\\sklearn\\linear_model\\_sag.py:350: ConvergenceWarning: The max_iter was reached which means the coef_ did not converge\n",
      "  warnings.warn(\n",
      "C:\\Users\\hp\\Desktop\\Water-Potability\\env\\lib\\site-packages\\sklearn\\linear_model\\_sag.py:350: ConvergenceWarning: The max_iter was reached which means the coef_ did not converge\n",
      "  warnings.warn(\n",
      "C:\\Users\\hp\\Desktop\\Water-Potability\\env\\lib\\site-packages\\sklearn\\linear_model\\_sag.py:350: ConvergenceWarning: The max_iter was reached which means the coef_ did not converge\n",
      "  warnings.warn(\n",
      "C:\\Users\\hp\\Desktop\\Water-Potability\\env\\lib\\site-packages\\sklearn\\linear_model\\_sag.py:350: ConvergenceWarning: The max_iter was reached which means the coef_ did not converge\n",
      "  warnings.warn(\n",
      "C:\\Users\\hp\\Desktop\\Water-Potability\\env\\lib\\site-packages\\sklearn\\linear_model\\_sag.py:350: ConvergenceWarning: The max_iter was reached which means the coef_ did not converge\n",
      "  warnings.warn(\n",
      "C:\\Users\\hp\\Desktop\\Water-Potability\\env\\lib\\site-packages\\sklearn\\linear_model\\_sag.py:350: ConvergenceWarning: The max_iter was reached which means the coef_ did not converge\n",
      "  warnings.warn(\n",
      "C:\\Users\\hp\\Desktop\\Water-Potability\\env\\lib\\site-packages\\sklearn\\linear_model\\_sag.py:350: ConvergenceWarning: The max_iter was reached which means the coef_ did not converge\n",
      "  warnings.warn(\n",
      "C:\\Users\\hp\\Desktop\\Water-Potability\\env\\lib\\site-packages\\sklearn\\linear_model\\_sag.py:350: ConvergenceWarning: The max_iter was reached which means the coef_ did not converge\n",
      "  warnings.warn(\n",
      "C:\\Users\\hp\\Desktop\\Water-Potability\\env\\lib\\site-packages\\sklearn\\linear_model\\_sag.py:350: ConvergenceWarning: The max_iter was reached which means the coef_ did not converge\n",
      "  warnings.warn(\n",
      "C:\\Users\\hp\\Desktop\\Water-Potability\\env\\lib\\site-packages\\sklearn\\linear_model\\_sag.py:350: ConvergenceWarning: The max_iter was reached which means the coef_ did not converge\n",
      "  warnings.warn(\n",
      "C:\\Users\\hp\\Desktop\\Water-Potability\\env\\lib\\site-packages\\sklearn\\linear_model\\_sag.py:350: ConvergenceWarning: The max_iter was reached which means the coef_ did not converge\n",
      "  warnings.warn(\n",
      "C:\\Users\\hp\\Desktop\\Water-Potability\\env\\lib\\site-packages\\sklearn\\linear_model\\_sag.py:350: ConvergenceWarning: The max_iter was reached which means the coef_ did not converge\n",
      "  warnings.warn(\n",
      "C:\\Users\\hp\\Desktop\\Water-Potability\\env\\lib\\site-packages\\sklearn\\linear_model\\_sag.py:350: ConvergenceWarning: The max_iter was reached which means the coef_ did not converge\n",
      "  warnings.warn(\n",
      "C:\\Users\\hp\\Desktop\\Water-Potability\\env\\lib\\site-packages\\sklearn\\linear_model\\_sag.py:350: ConvergenceWarning: The max_iter was reached which means the coef_ did not converge\n",
      "  warnings.warn(\n",
      "C:\\Users\\hp\\Desktop\\Water-Potability\\env\\lib\\site-packages\\sklearn\\linear_model\\_sag.py:350: ConvergenceWarning: The max_iter was reached which means the coef_ did not converge\n",
      "  warnings.warn(\n",
      "C:\\Users\\hp\\Desktop\\Water-Potability\\env\\lib\\site-packages\\sklearn\\linear_model\\_sag.py:350: ConvergenceWarning: The max_iter was reached which means the coef_ did not converge\n",
      "  warnings.warn(\n",
      "C:\\Users\\hp\\Desktop\\Water-Potability\\env\\lib\\site-packages\\sklearn\\linear_model\\_sag.py:350: ConvergenceWarning: The max_iter was reached which means the coef_ did not converge\n",
      "  warnings.warn(\n",
      "C:\\Users\\hp\\Desktop\\Water-Potability\\env\\lib\\site-packages\\sklearn\\linear_model\\_sag.py:350: ConvergenceWarning: The max_iter was reached which means the coef_ did not converge\n",
      "  warnings.warn(\n"
     ]
    },
    {
     "name": "stderr",
     "output_type": "stream",
     "text": [
      "C:\\Users\\hp\\Desktop\\Water-Potability\\env\\lib\\site-packages\\sklearn\\linear_model\\_sag.py:350: ConvergenceWarning: The max_iter was reached which means the coef_ did not converge\n",
      "  warnings.warn(\n",
      "C:\\Users\\hp\\Desktop\\Water-Potability\\env\\lib\\site-packages\\sklearn\\linear_model\\_sag.py:350: ConvergenceWarning: The max_iter was reached which means the coef_ did not converge\n",
      "  warnings.warn(\n",
      "C:\\Users\\hp\\Desktop\\Water-Potability\\env\\lib\\site-packages\\sklearn\\linear_model\\_sag.py:350: ConvergenceWarning: The max_iter was reached which means the coef_ did not converge\n",
      "  warnings.warn(\n",
      "C:\\Users\\hp\\Desktop\\Water-Potability\\env\\lib\\site-packages\\sklearn\\linear_model\\_sag.py:350: ConvergenceWarning: The max_iter was reached which means the coef_ did not converge\n",
      "  warnings.warn(\n",
      "C:\\Users\\hp\\Desktop\\Water-Potability\\env\\lib\\site-packages\\sklearn\\linear_model\\_sag.py:350: ConvergenceWarning: The max_iter was reached which means the coef_ did not converge\n",
      "  warnings.warn(\n",
      "C:\\Users\\hp\\Desktop\\Water-Potability\\env\\lib\\site-packages\\sklearn\\linear_model\\_sag.py:350: ConvergenceWarning: The max_iter was reached which means the coef_ did not converge\n",
      "  warnings.warn(\n",
      "C:\\Users\\hp\\Desktop\\Water-Potability\\env\\lib\\site-packages\\sklearn\\linear_model\\_sag.py:350: ConvergenceWarning: The max_iter was reached which means the coef_ did not converge\n",
      "  warnings.warn(\n",
      "C:\\Users\\hp\\Desktop\\Water-Potability\\env\\lib\\site-packages\\sklearn\\linear_model\\_sag.py:350: ConvergenceWarning: The max_iter was reached which means the coef_ did not converge\n",
      "  warnings.warn(\n",
      "C:\\Users\\hp\\Desktop\\Water-Potability\\env\\lib\\site-packages\\sklearn\\linear_model\\_sag.py:350: ConvergenceWarning: The max_iter was reached which means the coef_ did not converge\n",
      "  warnings.warn(\n",
      "C:\\Users\\hp\\Desktop\\Water-Potability\\env\\lib\\site-packages\\sklearn\\linear_model\\_sag.py:350: ConvergenceWarning: The max_iter was reached which means the coef_ did not converge\n",
      "  warnings.warn(\n",
      "C:\\Users\\hp\\Desktop\\Water-Potability\\env\\lib\\site-packages\\sklearn\\linear_model\\_sag.py:350: ConvergenceWarning: The max_iter was reached which means the coef_ did not converge\n",
      "  warnings.warn(\n",
      "C:\\Users\\hp\\Desktop\\Water-Potability\\env\\lib\\site-packages\\sklearn\\linear_model\\_sag.py:350: ConvergenceWarning: The max_iter was reached which means the coef_ did not converge\n",
      "  warnings.warn(\n"
     ]
    },
    {
     "data": {
      "text/html": [
       "<style>#sk-container-id-1 {color: black;background-color: white;}#sk-container-id-1 pre{padding: 0;}#sk-container-id-1 div.sk-toggleable {background-color: white;}#sk-container-id-1 label.sk-toggleable__label {cursor: pointer;display: block;width: 100%;margin-bottom: 0;padding: 0.3em;box-sizing: border-box;text-align: center;}#sk-container-id-1 label.sk-toggleable__label-arrow:before {content: \"▸\";float: left;margin-right: 0.25em;color: #696969;}#sk-container-id-1 label.sk-toggleable__label-arrow:hover:before {color: black;}#sk-container-id-1 div.sk-estimator:hover label.sk-toggleable__label-arrow:before {color: black;}#sk-container-id-1 div.sk-toggleable__content {max-height: 0;max-width: 0;overflow: hidden;text-align: left;background-color: #f0f8ff;}#sk-container-id-1 div.sk-toggleable__content pre {margin: 0.2em;color: black;border-radius: 0.25em;background-color: #f0f8ff;}#sk-container-id-1 input.sk-toggleable__control:checked~div.sk-toggleable__content {max-height: 200px;max-width: 100%;overflow: auto;}#sk-container-id-1 input.sk-toggleable__control:checked~label.sk-toggleable__label-arrow:before {content: \"▾\";}#sk-container-id-1 div.sk-estimator input.sk-toggleable__control:checked~label.sk-toggleable__label {background-color: #d4ebff;}#sk-container-id-1 div.sk-label input.sk-toggleable__control:checked~label.sk-toggleable__label {background-color: #d4ebff;}#sk-container-id-1 input.sk-hidden--visually {border: 0;clip: rect(1px 1px 1px 1px);clip: rect(1px, 1px, 1px, 1px);height: 1px;margin: -1px;overflow: hidden;padding: 0;position: absolute;width: 1px;}#sk-container-id-1 div.sk-estimator {font-family: monospace;background-color: #f0f8ff;border: 1px dotted black;border-radius: 0.25em;box-sizing: border-box;margin-bottom: 0.5em;}#sk-container-id-1 div.sk-estimator:hover {background-color: #d4ebff;}#sk-container-id-1 div.sk-parallel-item::after {content: \"\";width: 100%;border-bottom: 1px solid gray;flex-grow: 1;}#sk-container-id-1 div.sk-label:hover label.sk-toggleable__label {background-color: #d4ebff;}#sk-container-id-1 div.sk-serial::before {content: \"\";position: absolute;border-left: 1px solid gray;box-sizing: border-box;top: 0;bottom: 0;left: 50%;z-index: 0;}#sk-container-id-1 div.sk-serial {display: flex;flex-direction: column;align-items: center;background-color: white;padding-right: 0.2em;padding-left: 0.2em;position: relative;}#sk-container-id-1 div.sk-item {position: relative;z-index: 1;}#sk-container-id-1 div.sk-parallel {display: flex;align-items: stretch;justify-content: center;background-color: white;position: relative;}#sk-container-id-1 div.sk-item::before, #sk-container-id-1 div.sk-parallel-item::before {content: \"\";position: absolute;border-left: 1px solid gray;box-sizing: border-box;top: 0;bottom: 0;left: 50%;z-index: -1;}#sk-container-id-1 div.sk-parallel-item {display: flex;flex-direction: column;z-index: 1;position: relative;background-color: white;}#sk-container-id-1 div.sk-parallel-item:first-child::after {align-self: flex-end;width: 50%;}#sk-container-id-1 div.sk-parallel-item:last-child::after {align-self: flex-start;width: 50%;}#sk-container-id-1 div.sk-parallel-item:only-child::after {width: 0;}#sk-container-id-1 div.sk-dashed-wrapped {border: 1px dashed gray;margin: 0 0.4em 0.5em 0.4em;box-sizing: border-box;padding-bottom: 0.4em;background-color: white;}#sk-container-id-1 div.sk-label label {font-family: monospace;font-weight: bold;display: inline-block;line-height: 1.2em;}#sk-container-id-1 div.sk-label-container {text-align: center;}#sk-container-id-1 div.sk-container {/* jupyter's `normalize.less` sets `[hidden] { display: none; }` but bootstrap.min.css set `[hidden] { display: none !important; }` so we also need the `!important` here to be able to override the default hidden behavior on the sphinx rendered scikit-learn.org. See: https://github.com/scikit-learn/scikit-learn/issues/21755 */display: inline-block !important;position: relative;}#sk-container-id-1 div.sk-text-repr-fallback {display: none;}</style><div id=\"sk-container-id-1\" class=\"sk-top-container\"><div class=\"sk-text-repr-fallback\"><pre>RandomizedSearchCV(cv=5, estimator=LogisticRegression(), n_iter=20,\n",
       "                   param_distributions={&#x27;C&#x27;: array([1.00000000e-05, 2.61015722e-05, 6.81292069e-05, 1.77827941e-04,\n",
       "       4.64158883e-04, 1.21152766e-03, 3.16227766e-03, 8.25404185e-03,\n",
       "       2.15443469e-02, 5.62341325e-02, 1.46779927e-01, 3.83118685e-01,\n",
       "       1.00000000e+00, 2.61015722e+00, 6.81292069e+00, 1.77827941e+01,\n",
       "       4.64158883e+01, 1.21152766e+02, 3.16227766e+02, 8.25404185e+02,\n",
       "       2.15443469e+03, 5.62341325e+03, 1.46779927e+04, 3.83118685e+04,\n",
       "       1.00000000e+05]),\n",
       "                                        &#x27;solver&#x27;: [&#x27;liblinear&#x27;, &#x27;sag&#x27;]},\n",
       "                   verbose=True)</pre><b>In a Jupyter environment, please rerun this cell to show the HTML representation or trust the notebook. <br />On GitHub, the HTML representation is unable to render, please try loading this page with nbviewer.org.</b></div><div class=\"sk-container\" hidden><div class=\"sk-item sk-dashed-wrapped\"><div class=\"sk-label-container\"><div class=\"sk-label sk-toggleable\"><input class=\"sk-toggleable__control sk-hidden--visually\" id=\"sk-estimator-id-1\" type=\"checkbox\" ><label for=\"sk-estimator-id-1\" class=\"sk-toggleable__label sk-toggleable__label-arrow\">RandomizedSearchCV</label><div class=\"sk-toggleable__content\"><pre>RandomizedSearchCV(cv=5, estimator=LogisticRegression(), n_iter=20,\n",
       "                   param_distributions={&#x27;C&#x27;: array([1.00000000e-05, 2.61015722e-05, 6.81292069e-05, 1.77827941e-04,\n",
       "       4.64158883e-04, 1.21152766e-03, 3.16227766e-03, 8.25404185e-03,\n",
       "       2.15443469e-02, 5.62341325e-02, 1.46779927e-01, 3.83118685e-01,\n",
       "       1.00000000e+00, 2.61015722e+00, 6.81292069e+00, 1.77827941e+01,\n",
       "       4.64158883e+01, 1.21152766e+02, 3.16227766e+02, 8.25404185e+02,\n",
       "       2.15443469e+03, 5.62341325e+03, 1.46779927e+04, 3.83118685e+04,\n",
       "       1.00000000e+05]),\n",
       "                                        &#x27;solver&#x27;: [&#x27;liblinear&#x27;, &#x27;sag&#x27;]},\n",
       "                   verbose=True)</pre></div></div></div><div class=\"sk-parallel\"><div class=\"sk-parallel-item\"><div class=\"sk-item\"><div class=\"sk-label-container\"><div class=\"sk-label sk-toggleable\"><input class=\"sk-toggleable__control sk-hidden--visually\" id=\"sk-estimator-id-2\" type=\"checkbox\" ><label for=\"sk-estimator-id-2\" class=\"sk-toggleable__label sk-toggleable__label-arrow\">estimator: LogisticRegression</label><div class=\"sk-toggleable__content\"><pre>LogisticRegression()</pre></div></div></div><div class=\"sk-serial\"><div class=\"sk-item\"><div class=\"sk-estimator sk-toggleable\"><input class=\"sk-toggleable__control sk-hidden--visually\" id=\"sk-estimator-id-3\" type=\"checkbox\" ><label for=\"sk-estimator-id-3\" class=\"sk-toggleable__label sk-toggleable__label-arrow\">LogisticRegression</label><div class=\"sk-toggleable__content\"><pre>LogisticRegression()</pre></div></div></div></div></div></div></div></div></div></div>"
      ],
      "text/plain": [
       "RandomizedSearchCV(cv=5, estimator=LogisticRegression(), n_iter=20,\n",
       "                   param_distributions={'C': array([1.00000000e-05, 2.61015722e-05, 6.81292069e-05, 1.77827941e-04,\n",
       "       4.64158883e-04, 1.21152766e-03, 3.16227766e-03, 8.25404185e-03,\n",
       "       2.15443469e-02, 5.62341325e-02, 1.46779927e-01, 3.83118685e-01,\n",
       "       1.00000000e+00, 2.61015722e+00, 6.81292069e+00, 1.77827941e+01,\n",
       "       4.64158883e+01, 1.21152766e+02, 3.16227766e+02, 8.25404185e+02,\n",
       "       2.15443469e+03, 5.62341325e+03, 1.46779927e+04, 3.83118685e+04,\n",
       "       1.00000000e+05]),\n",
       "                                        'solver': ['liblinear', 'sag']},\n",
       "                   verbose=True)"
      ]
     },
     "execution_count": 28,
     "metadata": {},
     "output_type": "execute_result"
    }
   ],
   "source": [
    "# Tune LogisiticRegression\n",
    "np.random.seed(42)\n",
    "\n",
    "# Setup random hyperparameter search for LogisticRegression\n",
    "rs_log_reg= RandomizedSearchCV(LogisticRegression(),\n",
    "                               param_distributions=log_reg_grid,\n",
    "                               cv=5,\n",
    "                               n_iter=20,\n",
    "                               verbose=True)\n",
    "\n",
    "# Fit random hyperparameter search model for LogisticRegression\n",
    "rs_log_reg.fit(X_train,y_train)"
   ]
  },
  {
   "cell_type": "code",
   "execution_count": 29,
   "id": "0ddb5a7c",
   "metadata": {},
   "outputs": [
    {
     "data": {
      "text/plain": [
       "{'solver': 'liblinear', 'C': 2.6101572156825386}"
      ]
     },
     "execution_count": 29,
     "metadata": {},
     "output_type": "execute_result"
    }
   ],
   "source": [
    "rs_log_reg.best_params_"
   ]
  },
  {
   "cell_type": "code",
   "execution_count": 30,
   "id": "2aeb12f6",
   "metadata": {},
   "outputs": [
    {
     "data": {
      "text/plain": [
       "0.5732009925558312"
      ]
     },
     "execution_count": 30,
     "metadata": {},
     "output_type": "execute_result"
    }
   ],
   "source": [
    "rs_log_reg.score(X_test,y_test)"
   ]
  },
  {
   "cell_type": "markdown",
   "id": "a2e5f4fb",
   "metadata": {},
   "source": [
    "Now we've tuned LogisticRegression(),let's do the same for RandomForestClassifier()"
   ]
  },
  {
   "cell_type": "code",
   "execution_count": 31,
   "id": "54ab4269",
   "metadata": {},
   "outputs": [
    {
     "name": "stdout",
     "output_type": "stream",
     "text": [
      "Fitting 5 folds for each of 20 candidates, totalling 100 fits\n"
     ]
    },
    {
     "name": "stderr",
     "output_type": "stream",
     "text": [
      "C:\\Users\\hp\\Desktop\\Water-Potability\\env\\lib\\site-packages\\sklearn\\model_selection\\_validation.py:378: FitFailedWarning: \n",
      "5 fits failed out of a total of 100.\n",
      "The score on these train-test partitions for these parameters will be set to nan.\n",
      "If these failures are not expected, you can try to debug them by setting error_score='raise'.\n",
      "\n",
      "Below are more details about the failures:\n",
      "--------------------------------------------------------------------------------\n",
      "5 fits failed with the following error:\n",
      "Traceback (most recent call last):\n",
      "  File \"C:\\Users\\hp\\Desktop\\Water-Potability\\env\\lib\\site-packages\\sklearn\\model_selection\\_validation.py\", line 686, in _fit_and_score\n",
      "    estimator.fit(X_train, y_train, **fit_params)\n",
      "  File \"C:\\Users\\hp\\Desktop\\Water-Potability\\env\\lib\\site-packages\\sklearn\\ensemble\\_forest.py\", line 476, in fit\n",
      "    trees = Parallel(\n",
      "  File \"C:\\Users\\hp\\Desktop\\Water-Potability\\env\\lib\\site-packages\\joblib\\parallel.py\", line 1043, in __call__\n",
      "    if self.dispatch_one_batch(iterator):\n",
      "  File \"C:\\Users\\hp\\Desktop\\Water-Potability\\env\\lib\\site-packages\\joblib\\parallel.py\", line 861, in dispatch_one_batch\n",
      "    self._dispatch(tasks)\n",
      "  File \"C:\\Users\\hp\\Desktop\\Water-Potability\\env\\lib\\site-packages\\joblib\\parallel.py\", line 779, in _dispatch\n",
      "    job = self._backend.apply_async(batch, callback=cb)\n",
      "  File \"C:\\Users\\hp\\Desktop\\Water-Potability\\env\\lib\\site-packages\\joblib\\_parallel_backends.py\", line 208, in apply_async\n",
      "    result = ImmediateResult(func)\n",
      "  File \"C:\\Users\\hp\\Desktop\\Water-Potability\\env\\lib\\site-packages\\joblib\\_parallel_backends.py\", line 572, in __init__\n",
      "    self.results = batch()\n",
      "  File \"C:\\Users\\hp\\Desktop\\Water-Potability\\env\\lib\\site-packages\\joblib\\parallel.py\", line 262, in __call__\n",
      "    return [func(*args, **kwargs)\n",
      "  File \"C:\\Users\\hp\\Desktop\\Water-Potability\\env\\lib\\site-packages\\joblib\\parallel.py\", line 262, in <listcomp>\n",
      "    return [func(*args, **kwargs)\n",
      "  File \"C:\\Users\\hp\\Desktop\\Water-Potability\\env\\lib\\site-packages\\sklearn\\utils\\fixes.py\", line 117, in __call__\n",
      "    return self.function(*args, **kwargs)\n",
      "  File \"C:\\Users\\hp\\Desktop\\Water-Potability\\env\\lib\\site-packages\\sklearn\\ensemble\\_forest.py\", line 189, in _parallel_build_trees\n",
      "    tree.fit(X, y, sample_weight=curr_sample_weight, check_input=False)\n",
      "  File \"C:\\Users\\hp\\Desktop\\Water-Potability\\env\\lib\\site-packages\\sklearn\\tree\\_classes.py\", line 969, in fit\n",
      "    super().fit(\n",
      "  File \"C:\\Users\\hp\\Desktop\\Water-Potability\\env\\lib\\site-packages\\sklearn\\tree\\_classes.py\", line 265, in fit\n",
      "    check_scalar(\n",
      "  File \"C:\\Users\\hp\\Desktop\\Water-Potability\\env\\lib\\site-packages\\sklearn\\utils\\validation.py\", line 1480, in check_scalar\n",
      "    raise ValueError(\n",
      "ValueError: min_samples_split == 1, must be >= 2.\n",
      "\n",
      "  warnings.warn(some_fits_failed_message, FitFailedWarning)\n",
      "C:\\Users\\hp\\Desktop\\Water-Potability\\env\\lib\\site-packages\\sklearn\\model_selection\\_search.py:953: UserWarning: One or more of the test scores are non-finite: [0.66167837 0.67037209 0.62376115 0.65172694 0.65794586 0.6231381\n",
      " 0.62313616 0.66853002 0.65546526 0.66105532 0.63991409 0.65794199\n",
      " 0.67536038 0.66104565        nan 0.62810704 0.62313616 0.62313616\n",
      " 0.64239663 0.66105145]\n",
      "  warnings.warn(\n"
     ]
    },
    {
     "data": {
      "text/html": [
       "<style>#sk-container-id-2 {color: black;background-color: white;}#sk-container-id-2 pre{padding: 0;}#sk-container-id-2 div.sk-toggleable {background-color: white;}#sk-container-id-2 label.sk-toggleable__label {cursor: pointer;display: block;width: 100%;margin-bottom: 0;padding: 0.3em;box-sizing: border-box;text-align: center;}#sk-container-id-2 label.sk-toggleable__label-arrow:before {content: \"▸\";float: left;margin-right: 0.25em;color: #696969;}#sk-container-id-2 label.sk-toggleable__label-arrow:hover:before {color: black;}#sk-container-id-2 div.sk-estimator:hover label.sk-toggleable__label-arrow:before {color: black;}#sk-container-id-2 div.sk-toggleable__content {max-height: 0;max-width: 0;overflow: hidden;text-align: left;background-color: #f0f8ff;}#sk-container-id-2 div.sk-toggleable__content pre {margin: 0.2em;color: black;border-radius: 0.25em;background-color: #f0f8ff;}#sk-container-id-2 input.sk-toggleable__control:checked~div.sk-toggleable__content {max-height: 200px;max-width: 100%;overflow: auto;}#sk-container-id-2 input.sk-toggleable__control:checked~label.sk-toggleable__label-arrow:before {content: \"▾\";}#sk-container-id-2 div.sk-estimator input.sk-toggleable__control:checked~label.sk-toggleable__label {background-color: #d4ebff;}#sk-container-id-2 div.sk-label input.sk-toggleable__control:checked~label.sk-toggleable__label {background-color: #d4ebff;}#sk-container-id-2 input.sk-hidden--visually {border: 0;clip: rect(1px 1px 1px 1px);clip: rect(1px, 1px, 1px, 1px);height: 1px;margin: -1px;overflow: hidden;padding: 0;position: absolute;width: 1px;}#sk-container-id-2 div.sk-estimator {font-family: monospace;background-color: #f0f8ff;border: 1px dotted black;border-radius: 0.25em;box-sizing: border-box;margin-bottom: 0.5em;}#sk-container-id-2 div.sk-estimator:hover {background-color: #d4ebff;}#sk-container-id-2 div.sk-parallel-item::after {content: \"\";width: 100%;border-bottom: 1px solid gray;flex-grow: 1;}#sk-container-id-2 div.sk-label:hover label.sk-toggleable__label {background-color: #d4ebff;}#sk-container-id-2 div.sk-serial::before {content: \"\";position: absolute;border-left: 1px solid gray;box-sizing: border-box;top: 0;bottom: 0;left: 50%;z-index: 0;}#sk-container-id-2 div.sk-serial {display: flex;flex-direction: column;align-items: center;background-color: white;padding-right: 0.2em;padding-left: 0.2em;position: relative;}#sk-container-id-2 div.sk-item {position: relative;z-index: 1;}#sk-container-id-2 div.sk-parallel {display: flex;align-items: stretch;justify-content: center;background-color: white;position: relative;}#sk-container-id-2 div.sk-item::before, #sk-container-id-2 div.sk-parallel-item::before {content: \"\";position: absolute;border-left: 1px solid gray;box-sizing: border-box;top: 0;bottom: 0;left: 50%;z-index: -1;}#sk-container-id-2 div.sk-parallel-item {display: flex;flex-direction: column;z-index: 1;position: relative;background-color: white;}#sk-container-id-2 div.sk-parallel-item:first-child::after {align-self: flex-end;width: 50%;}#sk-container-id-2 div.sk-parallel-item:last-child::after {align-self: flex-start;width: 50%;}#sk-container-id-2 div.sk-parallel-item:only-child::after {width: 0;}#sk-container-id-2 div.sk-dashed-wrapped {border: 1px dashed gray;margin: 0 0.4em 0.5em 0.4em;box-sizing: border-box;padding-bottom: 0.4em;background-color: white;}#sk-container-id-2 div.sk-label label {font-family: monospace;font-weight: bold;display: inline-block;line-height: 1.2em;}#sk-container-id-2 div.sk-label-container {text-align: center;}#sk-container-id-2 div.sk-container {/* jupyter's `normalize.less` sets `[hidden] { display: none; }` but bootstrap.min.css set `[hidden] { display: none !important; }` so we also need the `!important` here to be able to override the default hidden behavior on the sphinx rendered scikit-learn.org. See: https://github.com/scikit-learn/scikit-learn/issues/21755 */display: inline-block !important;position: relative;}#sk-container-id-2 div.sk-text-repr-fallback {display: none;}</style><div id=\"sk-container-id-2\" class=\"sk-top-container\"><div class=\"sk-text-repr-fallback\"><pre>RandomizedSearchCV(cv=5, estimator=RandomForestClassifier(), n_iter=20,\n",
       "                   param_distributions={&#x27;max_depth&#x27;: [None, 3, 5, 7, 10],\n",
       "                                        &#x27;min_samples_leaf&#x27;: array([ 1,  3,  5,  7,  9, 11, 13, 15, 17, 19]),\n",
       "                                        &#x27;min_samples_split&#x27;: array([ 1,  3,  5,  7,  9, 11, 13, 15, 17, 19]),\n",
       "                                        &#x27;n_estimators&#x27;: array([ 10,  40,  70, 100, 130, 160, 190, 220, 250, 280, 310, 340, 370,\n",
       "       400, 430, 460, 490, 520, 550, 580, 610, 640, 670, 700, 730, 760,\n",
       "       790, 820, 850, 880, 910, 940, 970])},\n",
       "                   verbose=True)</pre><b>In a Jupyter environment, please rerun this cell to show the HTML representation or trust the notebook. <br />On GitHub, the HTML representation is unable to render, please try loading this page with nbviewer.org.</b></div><div class=\"sk-container\" hidden><div class=\"sk-item sk-dashed-wrapped\"><div class=\"sk-label-container\"><div class=\"sk-label sk-toggleable\"><input class=\"sk-toggleable__control sk-hidden--visually\" id=\"sk-estimator-id-4\" type=\"checkbox\" ><label for=\"sk-estimator-id-4\" class=\"sk-toggleable__label sk-toggleable__label-arrow\">RandomizedSearchCV</label><div class=\"sk-toggleable__content\"><pre>RandomizedSearchCV(cv=5, estimator=RandomForestClassifier(), n_iter=20,\n",
       "                   param_distributions={&#x27;max_depth&#x27;: [None, 3, 5, 7, 10],\n",
       "                                        &#x27;min_samples_leaf&#x27;: array([ 1,  3,  5,  7,  9, 11, 13, 15, 17, 19]),\n",
       "                                        &#x27;min_samples_split&#x27;: array([ 1,  3,  5,  7,  9, 11, 13, 15, 17, 19]),\n",
       "                                        &#x27;n_estimators&#x27;: array([ 10,  40,  70, 100, 130, 160, 190, 220, 250, 280, 310, 340, 370,\n",
       "       400, 430, 460, 490, 520, 550, 580, 610, 640, 670, 700, 730, 760,\n",
       "       790, 820, 850, 880, 910, 940, 970])},\n",
       "                   verbose=True)</pre></div></div></div><div class=\"sk-parallel\"><div class=\"sk-parallel-item\"><div class=\"sk-item\"><div class=\"sk-label-container\"><div class=\"sk-label sk-toggleable\"><input class=\"sk-toggleable__control sk-hidden--visually\" id=\"sk-estimator-id-5\" type=\"checkbox\" ><label for=\"sk-estimator-id-5\" class=\"sk-toggleable__label sk-toggleable__label-arrow\">estimator: RandomForestClassifier</label><div class=\"sk-toggleable__content\"><pre>RandomForestClassifier()</pre></div></div></div><div class=\"sk-serial\"><div class=\"sk-item\"><div class=\"sk-estimator sk-toggleable\"><input class=\"sk-toggleable__control sk-hidden--visually\" id=\"sk-estimator-id-6\" type=\"checkbox\" ><label for=\"sk-estimator-id-6\" class=\"sk-toggleable__label sk-toggleable__label-arrow\">RandomForestClassifier</label><div class=\"sk-toggleable__content\"><pre>RandomForestClassifier()</pre></div></div></div></div></div></div></div></div></div></div>"
      ],
      "text/plain": [
       "RandomizedSearchCV(cv=5, estimator=RandomForestClassifier(), n_iter=20,\n",
       "                   param_distributions={'max_depth': [None, 3, 5, 7, 10],\n",
       "                                        'min_samples_leaf': array([ 1,  3,  5,  7,  9, 11, 13, 15, 17, 19]),\n",
       "                                        'min_samples_split': array([ 1,  3,  5,  7,  9, 11, 13, 15, 17, 19]),\n",
       "                                        'n_estimators': array([ 10,  40,  70, 100, 130, 160, 190, 220, 250, 280, 310, 340, 370,\n",
       "       400, 430, 460, 490, 520, 550, 580, 610, 640, 670, 700, 730, 760,\n",
       "       790, 820, 850, 880, 910, 940, 970])},\n",
       "                   verbose=True)"
      ]
     },
     "execution_count": 31,
     "metadata": {},
     "output_type": "execute_result"
    }
   ],
   "source": [
    "# Setup Random Seed\n",
    "np.random.seed(42)\n",
    "\n",
    "# Setup random hyperparameter search for RandomizedSearchCV\n",
    "rs_rf= RandomizedSearchCV(RandomForestClassifier(),\n",
    "                          param_distributions=rf_grid,\n",
    "                          n_iter=20,\n",
    "                          verbose=True,\n",
    "                          cv=5)\n",
    "\n",
    "# Fit random hyperparameter search model for RandomForestClassifier\n",
    "rs_rf.fit(X_train,y_train)"
   ]
  },
  {
   "cell_type": "code",
   "execution_count": 32,
   "id": "e3a484f9",
   "metadata": {},
   "outputs": [
    {
     "data": {
      "text/plain": [
       "{'n_estimators': 310,\n",
       " 'min_samples_split': 7,\n",
       " 'min_samples_leaf': 5,\n",
       " 'max_depth': None}"
      ]
     },
     "execution_count": 32,
     "metadata": {},
     "output_type": "execute_result"
    }
   ],
   "source": [
    "rs_rf.best_params_"
   ]
  },
  {
   "cell_type": "code",
   "execution_count": 33,
   "id": "63bfd6f3",
   "metadata": {},
   "outputs": [
    {
     "data": {
      "text/plain": [
       "0.6774193548387096"
      ]
     },
     "execution_count": 33,
     "metadata": {},
     "output_type": "execute_result"
    }
   ],
   "source": [
    "rs_rf.score(X_test,y_test)"
   ]
  },
  {
   "cell_type": "markdown",
   "id": "b496078f",
   "metadata": {},
   "source": [
    "## HyperTuning with GridSearchCV\n",
    "\n",
    "Since Our RandomForestClassifier model provides the best score so far so we will try to improve it more using GridSearchCV"
   ]
  },
  {
   "cell_type": "code",
   "execution_count": 181,
   "id": "bb3cbf95",
   "metadata": {},
   "outputs": [
    {
     "name": "stdout",
     "output_type": "stream",
     "text": [
      "Fitting 5 folds for each of 135 candidates, totalling 675 fits\n"
     ]
    }
   ],
   "source": [
    "# Different Hyperparameters for our RandomForestClassifier model\n",
    "rf_cl_grid={\"n_estimators\": np.arange(305,315,2),\n",
    "           \"max_depth\": [None,5,7],\n",
    "           \"min_samples_split\": np.arange(4,10,2),\n",
    "           \"min_samples_leaf\": np.arange(4,10,2)}\n",
    "# Setup grid hyperparameter search for LogisticRegression\n",
    "gs_rf_cl= GridSearchCV(RandomForestClassifier(),param_grid=rf_cl_grid,\n",
    "                        cv=5,\n",
    "                        verbose=True)\n",
    "\n",
    "# Fit grid hyperparameter search model\n",
    "gs_rf_cl.fit(X_train,y_train);"
   ]
  },
  {
   "cell_type": "code",
   "execution_count": 182,
   "id": "3d1293a2",
   "metadata": {},
   "outputs": [
    {
     "data": {
      "text/plain": [
       "{'max_depth': None,\n",
       " 'min_samples_leaf': 4,\n",
       " 'min_samples_split': 8,\n",
       " 'n_estimators': 313}"
      ]
     },
     "execution_count": 182,
     "metadata": {},
     "output_type": "execute_result"
    }
   ],
   "source": [
    "gs_rf_cl.best_params_"
   ]
  },
  {
   "cell_type": "code",
   "execution_count": 183,
   "id": "ad509bf2",
   "metadata": {},
   "outputs": [
    {
     "data": {
      "text/plain": [
       "0.6625310173697271"
      ]
     },
     "execution_count": 183,
     "metadata": {},
     "output_type": "execute_result"
    }
   ],
   "source": [
    "gs_rf_cl.score(X_test,y_test)"
   ]
  },
  {
   "cell_type": "markdown",
   "id": "bae9b59d",
   "metadata": {},
   "source": [
    "## Evaluating our Machine Learning Model beyond accuracy\n",
    "\n",
    "* ROC curve and AUC curve \n",
    "* Confusion Matrix\n",
    "* Classification Report\n",
    "* Precision\n",
    "* Recall\n",
    "* F1-score\n",
    "\n",
    "... and it would be great if cross-validation was used where possible"
   ]
  },
  {
   "cell_type": "code",
   "execution_count": 34,
   "id": "61501d14",
   "metadata": {},
   "outputs": [],
   "source": [
    "# Make predictions with tuned model\n",
    "y_preds=rs_rf.predict(X_test)"
   ]
  },
  {
   "cell_type": "code",
   "execution_count": 35,
   "id": "597c9dda",
   "metadata": {},
   "outputs": [
    {
     "data": {
      "text/plain": [
       "array([0, 0, 0, 1, 0, 0, 0, 0, 0, 0, 1, 1, 0, 0, 0, 1, 0, 1, 0, 1, 0, 0,\n",
       "       1, 0, 1, 0, 0, 0, 0, 0, 0, 0, 0, 1, 0, 0, 0, 1, 0, 1, 0, 1, 1, 1,\n",
       "       0, 0, 0, 1, 0, 0, 0, 0, 0, 0, 0, 0, 0, 0, 0, 0, 0, 0, 0, 1, 1, 0,\n",
       "       0, 1, 0, 0, 0, 1, 0, 0, 0, 0, 1, 1, 0, 0, 0, 0, 0, 1, 1, 0, 0, 0,\n",
       "       1, 0, 0, 0, 0, 1, 0, 1, 0, 0, 0, 0, 0, 0, 0, 1, 1, 1, 0, 0, 0, 1,\n",
       "       1, 0, 0, 0, 0, 0, 0, 0, 0, 0, 0, 0, 1, 0, 0, 0, 0, 0, 0, 0, 0, 0,\n",
       "       1, 0, 0, 1, 0, 0, 0, 0, 0, 0, 0, 0, 0, 0, 0, 0, 1, 0, 1, 0, 0, 0,\n",
       "       0, 0, 0, 0, 0, 1, 0, 0, 0, 0, 0, 1, 1, 0, 0, 0, 0, 0, 0, 0, 0, 0,\n",
       "       0, 1, 0, 1, 0, 0, 0, 0, 1, 0, 0, 1, 0, 1, 1, 0, 0, 0, 0, 0, 0, 0,\n",
       "       0, 1, 0, 0, 0, 1, 0, 0, 1, 1, 0, 0, 0, 0, 0, 0, 1, 0, 1, 0, 0, 0,\n",
       "       0, 1, 0, 0, 1, 0, 0, 0, 1, 0, 1, 0, 0, 0, 0, 0, 0, 1, 0, 1, 0, 0,\n",
       "       0, 1, 0, 0, 0, 0, 0, 0, 0, 0, 0, 0, 1, 1, 0, 0, 1, 1, 0, 0, 0, 0,\n",
       "       0, 0, 0, 0, 0, 0, 0, 0, 0, 0, 0, 0, 0, 0, 1, 0, 0, 0, 0, 1, 1, 1,\n",
       "       0, 0, 0, 0, 0, 0, 0, 1, 0, 0, 0, 1, 1, 0, 1, 1, 0, 0, 0, 0, 0, 1,\n",
       "       1, 0, 0, 0, 0, 0, 1, 0, 1, 0, 0, 0, 0, 0, 0, 0, 0, 0, 0, 0, 0, 0,\n",
       "       0, 0, 0, 0, 0, 0, 0, 0, 0, 0, 0, 0, 0, 1, 1, 0, 0, 1, 1, 0, 0, 1,\n",
       "       0, 0, 1, 0, 0, 1, 0, 0, 0, 0, 0, 0, 1, 1, 0, 0, 0, 0, 0, 1, 0, 1,\n",
       "       0, 0, 0, 1, 1, 1, 1, 1, 1, 0, 1, 0, 0, 0, 0, 0, 0, 0, 1, 0, 0, 0,\n",
       "       0, 1, 0, 1, 1, 1, 0], dtype=int64)"
      ]
     },
     "execution_count": 35,
     "metadata": {},
     "output_type": "execute_result"
    }
   ],
   "source": [
    "y_preds"
   ]
  },
  {
   "cell_type": "code",
   "execution_count": 19,
   "id": "09df502c",
   "metadata": {},
   "outputs": [
    {
     "data": {
      "text/plain": [
       "1317    0\n",
       "526     0\n",
       "393     0\n",
       "1405    0\n",
       "433     1\n",
       "       ..\n",
       "733     1\n",
       "1474    1\n",
       "692     1\n",
       "1767    0\n",
       "1624    0\n",
       "Name: Potability, Length: 403, dtype: int64"
      ]
     },
     "execution_count": 19,
     "metadata": {},
     "output_type": "execute_result"
    }
   ],
   "source": [
    "y_test"
   ]
  },
  {
   "cell_type": "code",
   "execution_count": 37,
   "id": "1ddfe149",
   "metadata": {},
   "outputs": [
    {
     "name": "stderr",
     "output_type": "stream",
     "text": [
      "C:\\Users\\hp\\Desktop\\Water-Potability\\env\\lib\\site-packages\\sklearn\\utils\\deprecation.py:87: FutureWarning: Function plot_roc_curve is deprecated; Function :func:`plot_roc_curve` is deprecated in 1.0 and will be removed in 1.2. Use one of the class methods: :meth:`sklearn.metric.RocCurveDisplay.from_predictions` or :meth:`sklearn.metric.RocCurveDisplay.from_estimator`.\n",
      "  warnings.warn(msg, category=FutureWarning)\n"
     ]
    },
    {
     "data": {
      "image/png": "[encoded data removed]",
      "text/plain": [
       "<Figure size 432x288 with 1 Axes>"
      ]
     },
     "metadata": {
      "needs_background": "light"
     },
     "output_type": "display_data"
    }
   ],
   "source": [
    "# Plot ROC curve and calculate AUC metric \n",
    "plot_roc_curve(rs_rf,X_test,y_test);"
   ]
  },
  {
   "cell_type": "code",
   "execution_count": 38,
   "id": "98894f84",
   "metadata": {},
   "outputs": [
    {
     "name": "stdout",
     "output_type": "stream",
     "text": [
      "[[203  28]\n",
      " [102  70]]\n"
     ]
    }
   ],
   "source": [
    "# Confusion Matrix\n",
    "print(confusion_matrix(y_test,y_preds))"
   ]
  },
  {
   "cell_type": "code",
   "execution_count": 42,
   "id": "423a8897",
   "metadata": {},
   "outputs": [
    {
     "data": {
      "image/png": "[encoded data removed]",
      "text/plain": [
       "<Figure size 360x360 with 1 Axes>"
      ]
     },
     "metadata": {},
     "output_type": "display_data"
    }
   ],
   "source": [
    "# Import Seaborn\n",
    "import seaborn as sns\n",
    "sns.set(font_scale=1.5) # Increase font size\n",
    " \n",
    "def plot_conf_mat(y_test, y_preds):\n",
    "    \"\"\"\n",
    "    Plots a confusion matrix using Seaborn's heatmap().\n",
    "    \"\"\"\n",
    "    fig, ax = plt.subplots(figsize=(5, 5))\n",
    "    ax = sns.heatmap(confusion_matrix(y_test, y_preds),\n",
    "                     annot=True, # Annotate the boxes\n",
    "                     cbar=False,\n",
    "                     fmt='')\n",
    "    plt.xlabel(\"Predicted label\") # predictions go on the x-axis\n",
    "    plt.ylabel(\"True label\") # true labels go on the y-axis \n",
    "    \n",
    "plot_conf_mat(y_test, y_preds)"
   ]
  },
  {
   "cell_type": "markdown",
   "id": "b8860f34",
   "metadata": {},
   "source": [
    "Now we've got a ROC curve, an AUC metric and a confusion matrix, let's get a classification report as well as cross-validated precision, recall and F1-score"
   ]
  },
  {
   "cell_type": "code",
   "execution_count": 44,
   "id": "d3817bef",
   "metadata": {},
   "outputs": [
    {
     "name": "stdout",
     "output_type": "stream",
     "text": [
      "              precision    recall  f1-score   support\n",
      "\n",
      "           0       0.67      0.88      0.76       231\n",
      "           1       0.71      0.41      0.52       172\n",
      "\n",
      "    accuracy                           0.68       403\n",
      "   macro avg       0.69      0.64      0.64       403\n",
      "weighted avg       0.69      0.68      0.66       403\n",
      "\n"
     ]
    }
   ],
   "source": [
    "print(classification_report(y_test,y_preds))"
   ]
  },
  {
   "cell_type": "markdown",
   "id": "68f50843",
   "metadata": {},
   "source": [
    "### Calculate evaluation metrics using cross-validation\n",
    "\n",
    "We're going to calculate precision, recall and f1-score of our model using cross-validation and to do so we'll be using `cross_val_score()`."
   ]
  },
  {
   "cell_type": "code",
   "execution_count": 45,
   "id": "a00b5491",
   "metadata": {},
   "outputs": [
    {
     "data": {
      "text/plain": [
       "{'n_estimators': 310,\n",
       " 'min_samples_split': 7,\n",
       " 'min_samples_leaf': 5,\n",
       " 'max_depth': None}"
      ]
     },
     "execution_count": 45,
     "metadata": {},
     "output_type": "execute_result"
    }
   ],
   "source": [
    "# Check best hyperparamters\n",
    "rs_rf.best_params_"
   ]
  },
  {
   "cell_type": "code",
   "execution_count": 27,
   "id": "abd8dcd8",
   "metadata": {},
   "outputs": [],
   "source": [
    "# Create a new classifier with best parameters\n",
    "clf=RandomForestClassifier(n_estimators=310,\n",
    "                           min_samples_split=7,\n",
    "                           min_samples_leaf=5,\n",
    "                           max_depth=None)"
   ]
  },
  {
   "cell_type": "code",
   "execution_count": 56,
   "id": "414493cf",
   "metadata": {},
   "outputs": [
    {
     "data": {
      "text/plain": [
       "array([0.60049628, 0.65671642, 0.66915423, 0.61940299, 0.69154229])"
      ]
     },
     "execution_count": 56,
     "metadata": {},
     "output_type": "execute_result"
    }
   ],
   "source": [
    "# Cross-validated accuracy\n",
    "cv_acc= cross_val_score(clf,X,y,cv=5,scoring='accuracy')\n",
    "cv_acc"
   ]
  },
  {
   "cell_type": "code",
   "execution_count": 57,
   "id": "cdec3ef5",
   "metadata": {},
   "outputs": [
    {
     "data": {
      "text/plain": [
       "0.6474624396627285"
      ]
     },
     "execution_count": 57,
     "metadata": {},
     "output_type": "execute_result"
    }
   ],
   "source": [
    "cv_acc=np.mean(cv_acc)\n",
    "cv_acc"
   ]
  },
  {
   "cell_type": "code",
   "execution_count": 58,
   "id": "5cac4f8e",
   "metadata": {},
   "outputs": [
    {
     "data": {
      "text/plain": [
       "0.6157141111380586"
      ]
     },
     "execution_count": 58,
     "metadata": {},
     "output_type": "execute_result"
    }
   ],
   "source": [
    "# Cross-validated precision\n",
    "cv_precision=cross_val_score(clf,X,y,cv=5,scoring='precision')\n",
    "cv_precision=np.mean(cv_precision)\n",
    "cv_precision"
   ]
  },
  {
   "cell_type": "code",
   "execution_count": 59,
   "id": "05e869c5",
   "metadata": {},
   "outputs": [
    {
     "data": {
      "text/plain": [
       "0.35393471180792246"
      ]
     },
     "execution_count": 59,
     "metadata": {},
     "output_type": "execute_result"
    }
   ],
   "source": [
    "# Cross-validated Recall\n",
    "cv_recall=cross_val_score(clf,X,y,cv=5,scoring='recall')\n",
    "cv_recall=np.mean(cv_recall)\n",
    "cv_recall"
   ]
  },
  {
   "cell_type": "code",
   "execution_count": 60,
   "id": "3379f004",
   "metadata": {},
   "outputs": [
    {
     "data": {
      "text/plain": [
       "0.4324110823940555"
      ]
     },
     "execution_count": 60,
     "metadata": {},
     "output_type": "execute_result"
    }
   ],
   "source": [
    "# Cross-validated F1-score\n",
    "cv_f1=cross_val_score(clf,X,y,cv=5,scoring='f1')\n",
    "cv_f1=np.mean(cv_f1)\n",
    "cv_f1"
   ]
  },
  {
   "cell_type": "code",
   "execution_count": 61,
   "id": "f79b8af6",
   "metadata": {},
   "outputs": [
    {
     "data": {
      "image/png": "[encoded data removed]",
      "text/plain": [
       "<Figure size 432x288 with 1 Axes>"
      ]
     },
     "metadata": {},
     "output_type": "display_data"
    }
   ],
   "source": [
    "# Visualize cross-validated metrics \n",
    "cv_metrics = pd.DataFrame({'Accuracy': cv_acc,\n",
    "                          'Precision': cv_precision,\n",
    "                          \"Recall\": cv_recall,\n",
    "                          'F1':cv_f1},\n",
    "                          index=[0])\n",
    "cv_metrics.T.plot.bar(title='Cross-validated classification metrics',legend=False);"
   ]
  },
  {
   "cell_type": "code",
   "execution_count": 25,
   "id": "89cadfb4",
   "metadata": {},
   "outputs": [],
   "source": [
    "import pickle\n",
    "pickle.dump(clf,open('water-potability.pkl','wb'))"
   ]
  },
  {
   "cell_type": "code",
   "execution_count": null,
   "id": "5a5a3599",
   "metadata": {},
   "outputs": [],
   "source": []
  }
 ],
 "metadata": {
  "kernelspec": {
   "display_name": "Python 3 (ipykernel)",
   "language": "python",
   "name": "python3"
  },
  "language_info": {
   "codemirror_mode": {
    "name": "ipython",
    "version": 3
   },
   "file_extension": ".py",
   "mimetype": "text/x-python",
   "name": "python",
   "nbconvert_exporter": "python",
   "pygments_lexer": "ipython3",
   "version": "3.9.13"
  }
 },
 "nbformat": 4,
 "nbformat_minor": 5
}
